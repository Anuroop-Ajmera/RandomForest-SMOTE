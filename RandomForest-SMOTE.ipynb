{
 "cells": [
  {
   "cell_type": "code",
   "execution_count": 1,
   "metadata": {},
   "outputs": [],
   "source": [
    "import pandas as pd \n",
    "import numpy as np \n",
    "import matplotlib.pyplot as plt\n",
    "import seaborn as sns\n",
    "\n",
    "from sklearn.linear_model import LogisticRegression\n",
    "from sklearn.tree import DecisionTreeClassifier\n",
    "from sklearn.ensemble import RandomForestClassifier\n",
    "from sklearn.metrics import accuracy_score, f1_score, precision_score, recall_score\n",
    "from sklearn.metrics import confusion_matrix, roc_auc_score, roc_curve, classification_report, precision_recall_curve\n",
    "from sklearn.model_selection import train_test_split, cross_val_score, StratifiedKFold, GridSearchCV, RandomizedSearchCV\n",
    "        \n",
    "from collections import Counter"
   ]
  },
  {
   "cell_type": "code",
   "execution_count": 2,
   "metadata": {},
   "outputs": [
    {
     "data": {
      "text/plain": [
       "(3604175, 15)"
      ]
     },
     "execution_count": 2,
     "metadata": {},
     "output_type": "execute_result"
    }
   ],
   "source": [
    "df = pd.read_csv(\"./fedex/fedex.csv\")\n",
    "df.shape"
   ]
  },
  {
   "cell_type": "code",
   "execution_count": 3,
   "metadata": {},
   "outputs": [
    {
     "data": {
      "text/html": [
       "<div>\n",
       "<style scoped>\n",
       "    .dataframe tbody tr th:only-of-type {\n",
       "        vertical-align: middle;\n",
       "    }\n",
       "\n",
       "    .dataframe tbody tr th {\n",
       "        vertical-align: top;\n",
       "    }\n",
       "\n",
       "    .dataframe thead th {\n",
       "        text-align: right;\n",
       "    }\n",
       "</style>\n",
       "<table border=\"1\" class=\"dataframe\">\n",
       "  <thead>\n",
       "    <tr style=\"text-align: right;\">\n",
       "      <th></th>\n",
       "      <th>Year</th>\n",
       "      <th>Month</th>\n",
       "      <th>DayofMonth</th>\n",
       "      <th>DayOfWeek</th>\n",
       "      <th>Actual_Shipment_Time</th>\n",
       "      <th>Planned_Shipment_Time</th>\n",
       "      <th>Planned_Delivery_Time</th>\n",
       "      <th>Carrier_Name</th>\n",
       "      <th>Carrier_Num</th>\n",
       "      <th>Planned_TimeofTravel</th>\n",
       "      <th>Shipment_Delay</th>\n",
       "      <th>Source</th>\n",
       "      <th>Destination</th>\n",
       "      <th>Distance</th>\n",
       "      <th>Delivery_Status</th>\n",
       "    </tr>\n",
       "  </thead>\n",
       "  <tbody>\n",
       "    <tr>\n",
       "      <th>0</th>\n",
       "      <td>2008</td>\n",
       "      <td>1</td>\n",
       "      <td>3</td>\n",
       "      <td>4</td>\n",
       "      <td>2003.0</td>\n",
       "      <td>1955</td>\n",
       "      <td>2225</td>\n",
       "      <td>WN</td>\n",
       "      <td>335</td>\n",
       "      <td>150.0</td>\n",
       "      <td>8.0</td>\n",
       "      <td>IAD</td>\n",
       "      <td>TPA</td>\n",
       "      <td>810</td>\n",
       "      <td>0.0</td>\n",
       "    </tr>\n",
       "    <tr>\n",
       "      <th>1</th>\n",
       "      <td>2008</td>\n",
       "      <td>1</td>\n",
       "      <td>3</td>\n",
       "      <td>4</td>\n",
       "      <td>754.0</td>\n",
       "      <td>735</td>\n",
       "      <td>1000</td>\n",
       "      <td>WN</td>\n",
       "      <td>3231</td>\n",
       "      <td>145.0</td>\n",
       "      <td>19.0</td>\n",
       "      <td>IAD</td>\n",
       "      <td>TPA</td>\n",
       "      <td>810</td>\n",
       "      <td>1.0</td>\n",
       "    </tr>\n",
       "    <tr>\n",
       "      <th>2</th>\n",
       "      <td>2008</td>\n",
       "      <td>1</td>\n",
       "      <td>3</td>\n",
       "      <td>4</td>\n",
       "      <td>628.0</td>\n",
       "      <td>620</td>\n",
       "      <td>750</td>\n",
       "      <td>WN</td>\n",
       "      <td>448</td>\n",
       "      <td>90.0</td>\n",
       "      <td>8.0</td>\n",
       "      <td>IND</td>\n",
       "      <td>BWI</td>\n",
       "      <td>515</td>\n",
       "      <td>0.0</td>\n",
       "    </tr>\n",
       "    <tr>\n",
       "      <th>3</th>\n",
       "      <td>2008</td>\n",
       "      <td>1</td>\n",
       "      <td>3</td>\n",
       "      <td>4</td>\n",
       "      <td>926.0</td>\n",
       "      <td>930</td>\n",
       "      <td>1100</td>\n",
       "      <td>WN</td>\n",
       "      <td>1746</td>\n",
       "      <td>90.0</td>\n",
       "      <td>-4.0</td>\n",
       "      <td>IND</td>\n",
       "      <td>BWI</td>\n",
       "      <td>515</td>\n",
       "      <td>0.0</td>\n",
       "    </tr>\n",
       "    <tr>\n",
       "      <th>4</th>\n",
       "      <td>2008</td>\n",
       "      <td>1</td>\n",
       "      <td>3</td>\n",
       "      <td>4</td>\n",
       "      <td>1829.0</td>\n",
       "      <td>1755</td>\n",
       "      <td>1925</td>\n",
       "      <td>WN</td>\n",
       "      <td>3920</td>\n",
       "      <td>90.0</td>\n",
       "      <td>34.0</td>\n",
       "      <td>IND</td>\n",
       "      <td>BWI</td>\n",
       "      <td>515</td>\n",
       "      <td>1.0</td>\n",
       "    </tr>\n",
       "  </tbody>\n",
       "</table>\n",
       "</div>"
      ],
      "text/plain": [
       "   Year  Month  DayofMonth  DayOfWeek  Actual_Shipment_Time  \\\n",
       "0  2008      1           3          4                2003.0   \n",
       "1  2008      1           3          4                 754.0   \n",
       "2  2008      1           3          4                 628.0   \n",
       "3  2008      1           3          4                 926.0   \n",
       "4  2008      1           3          4                1829.0   \n",
       "\n",
       "   Planned_Shipment_Time  Planned_Delivery_Time Carrier_Name  Carrier_Num  \\\n",
       "0                   1955                   2225           WN          335   \n",
       "1                    735                   1000           WN         3231   \n",
       "2                    620                    750           WN          448   \n",
       "3                    930                   1100           WN         1746   \n",
       "4                   1755                   1925           WN         3920   \n",
       "\n",
       "   Planned_TimeofTravel  Shipment_Delay Source Destination  Distance  \\\n",
       "0                 150.0             8.0    IAD         TPA       810   \n",
       "1                 145.0            19.0    IAD         TPA       810   \n",
       "2                  90.0             8.0    IND         BWI       515   \n",
       "3                  90.0            -4.0    IND         BWI       515   \n",
       "4                  90.0            34.0    IND         BWI       515   \n",
       "\n",
       "   Delivery_Status  \n",
       "0              0.0  \n",
       "1              1.0  \n",
       "2              0.0  \n",
       "3              0.0  \n",
       "4              1.0  "
      ]
     },
     "execution_count": 3,
     "metadata": {},
     "output_type": "execute_result"
    }
   ],
   "source": [
    "df.head()"
   ]
  },
  {
   "cell_type": "code",
   "execution_count": 4,
   "metadata": {},
   "outputs": [
    {
     "data": {
      "text/plain": [
       "0.0    2804359\n",
       "1.0     718214\n",
       "Name: Delivery_Status, dtype: int64"
      ]
     },
     "execution_count": 4,
     "metadata": {},
     "output_type": "execute_result"
    }
   ],
   "source": [
    "df['Delivery_Status'].value_counts()"
   ]
  },
  {
   "cell_type": "markdown",
   "metadata": {},
   "source": [
    "<b> Let us plot the Class Distribution </b>"
   ]
  },
  {
   "cell_type": "code",
   "execution_count": 5,
   "metadata": {},
   "outputs": [
    {
     "data": {
      "text/plain": [
       "Text(0.5, 1.0, 'Delivery_Status Distributions \\n (0: Timely Delivery || 1: Delayed Delivery)')"
      ]
     },
     "execution_count": 5,
     "metadata": {},
     "output_type": "execute_result"
    },
    {
     "data": {
      "image/png": "[encoded data removed]",
      "text/plain": [
       "<Figure size 432x288 with 1 Axes>"
      ]
     },
     "metadata": {
      "needs_background": "light"
     },
     "output_type": "display_data"
    }
   ],
   "source": [
    "colors = ['#55a3cd', '#9c2f45']\n",
    "\n",
    "sns.countplot('Delivery_Status', data=df, palette=colors)\n",
    "plt.title('Delivery_Status Distributions \\n (0: Timely Delivery || 1: Delayed Delivery)', fontsize=14)"
   ]
  },
  {
   "cell_type": "code",
   "execution_count": 6,
   "metadata": {},
   "outputs": [
    {
     "name": "stdout",
     "output_type": "stream",
     "text": [
      "Timely Delivery: 77.81 % of the dataset\n",
      "Delayed Delivery: 19.93 % of the dataset\n"
     ]
    }
   ],
   "source": [
    "# The classes are heavily skewed\n",
    "print('Timely Delivery:', round(df['Delivery_Status'].value_counts()[0]/len(df) * 100,2), '% of the dataset')\n",
    "print('Delayed Delivery:', round(df['Delivery_Status'].value_counts()[1]/len(df) * 100,2), '% of the dataset')"
   ]
  },
  {
   "cell_type": "markdown",
   "metadata": {},
   "source": [
    "## Data Preprocessing:"
   ]
  },
  {
   "cell_type": "code",
   "execution_count": 7,
   "metadata": {},
   "outputs": [
    {
     "data": {
      "text/plain": [
       "Year                         0\n",
       "Month                        0\n",
       "DayofMonth                   0\n",
       "DayOfWeek                    0\n",
       "Actual_Shipment_Time     81602\n",
       "Planned_Shipment_Time        0\n",
       "Planned_Delivery_Time        0\n",
       "Carrier_Name                 0\n",
       "Carrier_Num                  0\n",
       "Planned_TimeofTravel       547\n",
       "Shipment_Delay           81602\n",
       "Source                       0\n",
       "Destination                  0\n",
       "Distance                     0\n",
       "Delivery_Status          81602\n",
       "dtype: int64"
      ]
     },
     "execution_count": 7,
     "metadata": {},
     "output_type": "execute_result"
    }
   ],
   "source": [
    "df.isnull().sum()"
   ]
  },
  {
   "cell_type": "markdown",
   "metadata": {},
   "source": [
    "### As we can see that there are 81602 null values in Target variable Delivery_Status, we have to drop these observations"
   ]
  },
  {
   "cell_type": "code",
   "execution_count": 8,
   "metadata": {},
   "outputs": [],
   "source": [
    "df.dropna(subset=['Delivery_Status'], inplace=True)"
   ]
  },
  {
   "cell_type": "code",
   "execution_count": 9,
   "metadata": {},
   "outputs": [
    {
     "data": {
      "text/plain": [
       "(3522573, 15)"
      ]
     },
     "execution_count": 9,
     "metadata": {},
     "output_type": "execute_result"
    }
   ],
   "source": [
    "df.shape"
   ]
  },
  {
   "cell_type": "code",
   "execution_count": 10,
   "metadata": {},
   "outputs": [
    {
     "data": {
      "text/html": [
       "<div>\n",
       "<style scoped>\n",
       "    .dataframe tbody tr th:only-of-type {\n",
       "        vertical-align: middle;\n",
       "    }\n",
       "\n",
       "    .dataframe tbody tr th {\n",
       "        vertical-align: top;\n",
       "    }\n",
       "\n",
       "    .dataframe thead th {\n",
       "        text-align: right;\n",
       "    }\n",
       "</style>\n",
       "<table border=\"1\" class=\"dataframe\">\n",
       "  <thead>\n",
       "    <tr style=\"text-align: right;\">\n",
       "      <th></th>\n",
       "      <th>Year</th>\n",
       "      <th>Month</th>\n",
       "      <th>DayofMonth</th>\n",
       "      <th>DayOfWeek</th>\n",
       "      <th>Actual_Shipment_Time</th>\n",
       "      <th>Planned_Shipment_Time</th>\n",
       "      <th>Planned_Delivery_Time</th>\n",
       "      <th>Carrier_Name</th>\n",
       "      <th>Carrier_Num</th>\n",
       "      <th>Planned_TimeofTravel</th>\n",
       "      <th>Shipment_Delay</th>\n",
       "      <th>Source</th>\n",
       "      <th>Destination</th>\n",
       "      <th>Distance</th>\n",
       "      <th>Delivery_Status</th>\n",
       "    </tr>\n",
       "  </thead>\n",
       "  <tbody>\n",
       "    <tr>\n",
       "      <th>0</th>\n",
       "      <td>2008</td>\n",
       "      <td>1</td>\n",
       "      <td>3</td>\n",
       "      <td>4</td>\n",
       "      <td>2003.0</td>\n",
       "      <td>1955</td>\n",
       "      <td>2225</td>\n",
       "      <td>WN</td>\n",
       "      <td>335</td>\n",
       "      <td>150.0</td>\n",
       "      <td>8.0</td>\n",
       "      <td>IAD</td>\n",
       "      <td>TPA</td>\n",
       "      <td>810</td>\n",
       "      <td>0.0</td>\n",
       "    </tr>\n",
       "    <tr>\n",
       "      <th>1</th>\n",
       "      <td>2008</td>\n",
       "      <td>1</td>\n",
       "      <td>3</td>\n",
       "      <td>4</td>\n",
       "      <td>754.0</td>\n",
       "      <td>735</td>\n",
       "      <td>1000</td>\n",
       "      <td>WN</td>\n",
       "      <td>3231</td>\n",
       "      <td>145.0</td>\n",
       "      <td>19.0</td>\n",
       "      <td>IAD</td>\n",
       "      <td>TPA</td>\n",
       "      <td>810</td>\n",
       "      <td>1.0</td>\n",
       "    </tr>\n",
       "    <tr>\n",
       "      <th>2</th>\n",
       "      <td>2008</td>\n",
       "      <td>1</td>\n",
       "      <td>3</td>\n",
       "      <td>4</td>\n",
       "      <td>628.0</td>\n",
       "      <td>620</td>\n",
       "      <td>750</td>\n",
       "      <td>WN</td>\n",
       "      <td>448</td>\n",
       "      <td>90.0</td>\n",
       "      <td>8.0</td>\n",
       "      <td>IND</td>\n",
       "      <td>BWI</td>\n",
       "      <td>515</td>\n",
       "      <td>0.0</td>\n",
       "    </tr>\n",
       "    <tr>\n",
       "      <th>3</th>\n",
       "      <td>2008</td>\n",
       "      <td>1</td>\n",
       "      <td>3</td>\n",
       "      <td>4</td>\n",
       "      <td>926.0</td>\n",
       "      <td>930</td>\n",
       "      <td>1100</td>\n",
       "      <td>WN</td>\n",
       "      <td>1746</td>\n",
       "      <td>90.0</td>\n",
       "      <td>-4.0</td>\n",
       "      <td>IND</td>\n",
       "      <td>BWI</td>\n",
       "      <td>515</td>\n",
       "      <td>0.0</td>\n",
       "    </tr>\n",
       "    <tr>\n",
       "      <th>4</th>\n",
       "      <td>2008</td>\n",
       "      <td>1</td>\n",
       "      <td>3</td>\n",
       "      <td>4</td>\n",
       "      <td>1829.0</td>\n",
       "      <td>1755</td>\n",
       "      <td>1925</td>\n",
       "      <td>WN</td>\n",
       "      <td>3920</td>\n",
       "      <td>90.0</td>\n",
       "      <td>34.0</td>\n",
       "      <td>IND</td>\n",
       "      <td>BWI</td>\n",
       "      <td>515</td>\n",
       "      <td>1.0</td>\n",
       "    </tr>\n",
       "    <tr>\n",
       "      <th>...</th>\n",
       "      <td>...</td>\n",
       "      <td>...</td>\n",
       "      <td>...</td>\n",
       "      <td>...</td>\n",
       "      <td>...</td>\n",
       "      <td>...</td>\n",
       "      <td>...</td>\n",
       "      <td>...</td>\n",
       "      <td>...</td>\n",
       "      <td>...</td>\n",
       "      <td>...</td>\n",
       "      <td>...</td>\n",
       "      <td>...</td>\n",
       "      <td>...</td>\n",
       "      <td>...</td>\n",
       "    </tr>\n",
       "    <tr>\n",
       "      <th>3604170</th>\n",
       "      <td>2008</td>\n",
       "      <td>6</td>\n",
       "      <td>19</td>\n",
       "      <td>4</td>\n",
       "      <td>1059.0</td>\n",
       "      <td>1100</td>\n",
       "      <td>1256</td>\n",
       "      <td>DL</td>\n",
       "      <td>1547</td>\n",
       "      <td>236.0</td>\n",
       "      <td>-1.0</td>\n",
       "      <td>ATL</td>\n",
       "      <td>JAC</td>\n",
       "      <td>1572</td>\n",
       "      <td>0.0</td>\n",
       "    </tr>\n",
       "    <tr>\n",
       "      <th>3604171</th>\n",
       "      <td>2008</td>\n",
       "      <td>6</td>\n",
       "      <td>19</td>\n",
       "      <td>4</td>\n",
       "      <td>555.0</td>\n",
       "      <td>600</td>\n",
       "      <td>738</td>\n",
       "      <td>DL</td>\n",
       "      <td>1548</td>\n",
       "      <td>98.0</td>\n",
       "      <td>-5.0</td>\n",
       "      <td>RSW</td>\n",
       "      <td>ATL</td>\n",
       "      <td>515</td>\n",
       "      <td>0.0</td>\n",
       "    </tr>\n",
       "    <tr>\n",
       "      <th>3604172</th>\n",
       "      <td>2008</td>\n",
       "      <td>6</td>\n",
       "      <td>19</td>\n",
       "      <td>4</td>\n",
       "      <td>821.0</td>\n",
       "      <td>827</td>\n",
       "      <td>1003</td>\n",
       "      <td>DL</td>\n",
       "      <td>1548</td>\n",
       "      <td>96.0</td>\n",
       "      <td>-6.0</td>\n",
       "      <td>ATL</td>\n",
       "      <td>IND</td>\n",
       "      <td>432</td>\n",
       "      <td>0.0</td>\n",
       "    </tr>\n",
       "    <tr>\n",
       "      <th>3604173</th>\n",
       "      <td>2008</td>\n",
       "      <td>6</td>\n",
       "      <td>19</td>\n",
       "      <td>4</td>\n",
       "      <td>718.0</td>\n",
       "      <td>735</td>\n",
       "      <td>852</td>\n",
       "      <td>DL</td>\n",
       "      <td>1551</td>\n",
       "      <td>77.0</td>\n",
       "      <td>-17.0</td>\n",
       "      <td>CAE</td>\n",
       "      <td>ATL</td>\n",
       "      <td>191</td>\n",
       "      <td>0.0</td>\n",
       "    </tr>\n",
       "    <tr>\n",
       "      <th>3604174</th>\n",
       "      <td>2008</td>\n",
       "      <td>6</td>\n",
       "      <td>19</td>\n",
       "      <td>4</td>\n",
       "      <td>1127.0</td>\n",
       "      <td>951</td>\n",
       "      <td>1130</td>\n",
       "      <td>DL</td>\n",
       "      <td>1551</td>\n",
       "      <td>159.0</td>\n",
       "      <td>96.0</td>\n",
       "      <td>ATL</td>\n",
       "      <td>MSP</td>\n",
       "      <td>906</td>\n",
       "      <td>1.0</td>\n",
       "    </tr>\n",
       "  </tbody>\n",
       "</table>\n",
       "<p>3522573 rows × 15 columns</p>\n",
       "</div>"
      ],
      "text/plain": [
       "         Year  Month  DayofMonth  DayOfWeek  Actual_Shipment_Time  \\\n",
       "0        2008      1           3          4                2003.0   \n",
       "1        2008      1           3          4                 754.0   \n",
       "2        2008      1           3          4                 628.0   \n",
       "3        2008      1           3          4                 926.0   \n",
       "4        2008      1           3          4                1829.0   \n",
       "...       ...    ...         ...        ...                   ...   \n",
       "3604170  2008      6          19          4                1059.0   \n",
       "3604171  2008      6          19          4                 555.0   \n",
       "3604172  2008      6          19          4                 821.0   \n",
       "3604173  2008      6          19          4                 718.0   \n",
       "3604174  2008      6          19          4                1127.0   \n",
       "\n",
       "         Planned_Shipment_Time  Planned_Delivery_Time Carrier_Name  \\\n",
       "0                         1955                   2225           WN   \n",
       "1                          735                   1000           WN   \n",
       "2                          620                    750           WN   \n",
       "3                          930                   1100           WN   \n",
       "4                         1755                   1925           WN   \n",
       "...                        ...                    ...          ...   \n",
       "3604170                   1100                   1256           DL   \n",
       "3604171                    600                    738           DL   \n",
       "3604172                    827                   1003           DL   \n",
       "3604173                    735                    852           DL   \n",
       "3604174                    951                   1130           DL   \n",
       "\n",
       "         Carrier_Num  Planned_TimeofTravel  Shipment_Delay Source Destination  \\\n",
       "0                335                 150.0             8.0    IAD         TPA   \n",
       "1               3231                 145.0            19.0    IAD         TPA   \n",
       "2                448                  90.0             8.0    IND         BWI   \n",
       "3               1746                  90.0            -4.0    IND         BWI   \n",
       "4               3920                  90.0            34.0    IND         BWI   \n",
       "...              ...                   ...             ...    ...         ...   \n",
       "3604170         1547                 236.0            -1.0    ATL         JAC   \n",
       "3604171         1548                  98.0            -5.0    RSW         ATL   \n",
       "3604172         1548                  96.0            -6.0    ATL         IND   \n",
       "3604173         1551                  77.0           -17.0    CAE         ATL   \n",
       "3604174         1551                 159.0            96.0    ATL         MSP   \n",
       "\n",
       "         Distance  Delivery_Status  \n",
       "0             810              0.0  \n",
       "1             810              1.0  \n",
       "2             515              0.0  \n",
       "3             515              0.0  \n",
       "4             515              1.0  \n",
       "...           ...              ...  \n",
       "3604170      1572              0.0  \n",
       "3604171       515              0.0  \n",
       "3604172       432              0.0  \n",
       "3604173       191              0.0  \n",
       "3604174       906              1.0  \n",
       "\n",
       "[3522573 rows x 15 columns]"
      ]
     },
     "execution_count": 10,
     "metadata": {},
     "output_type": "execute_result"
    }
   ],
   "source": [
    "df"
   ]
  },
  {
   "cell_type": "code",
   "execution_count": 11,
   "metadata": {},
   "outputs": [
    {
     "data": {
      "text/html": [
       "<div>\n",
       "<style scoped>\n",
       "    .dataframe tbody tr th:only-of-type {\n",
       "        vertical-align: middle;\n",
       "    }\n",
       "\n",
       "    .dataframe tbody tr th {\n",
       "        vertical-align: top;\n",
       "    }\n",
       "\n",
       "    .dataframe thead th {\n",
       "        text-align: right;\n",
       "    }\n",
       "</style>\n",
       "<table border=\"1\" class=\"dataframe\">\n",
       "  <thead>\n",
       "    <tr style=\"text-align: right;\">\n",
       "      <th></th>\n",
       "      <th>Year</th>\n",
       "      <th>Month</th>\n",
       "      <th>DayofMonth</th>\n",
       "      <th>DayOfWeek</th>\n",
       "      <th>Actual_Shipment_Time</th>\n",
       "      <th>Planned_Shipment_Time</th>\n",
       "      <th>Planned_Delivery_Time</th>\n",
       "      <th>Carrier_Name</th>\n",
       "      <th>Carrier_Num</th>\n",
       "      <th>Planned_TimeofTravel</th>\n",
       "      <th>Shipment_Delay</th>\n",
       "      <th>Source</th>\n",
       "      <th>Destination</th>\n",
       "      <th>Distance</th>\n",
       "      <th>Delivery_Status</th>\n",
       "    </tr>\n",
       "  </thead>\n",
       "  <tbody>\n",
       "    <tr>\n",
       "      <th>0</th>\n",
       "      <td>2008</td>\n",
       "      <td>1</td>\n",
       "      <td>3</td>\n",
       "      <td>4</td>\n",
       "      <td>2003.0</td>\n",
       "      <td>1955</td>\n",
       "      <td>2225</td>\n",
       "      <td>WN</td>\n",
       "      <td>335</td>\n",
       "      <td>150.0</td>\n",
       "      <td>8.0</td>\n",
       "      <td>IAD</td>\n",
       "      <td>TPA</td>\n",
       "      <td>810</td>\n",
       "      <td>0.0</td>\n",
       "    </tr>\n",
       "    <tr>\n",
       "      <th>1</th>\n",
       "      <td>2008</td>\n",
       "      <td>1</td>\n",
       "      <td>3</td>\n",
       "      <td>4</td>\n",
       "      <td>754.0</td>\n",
       "      <td>735</td>\n",
       "      <td>1000</td>\n",
       "      <td>WN</td>\n",
       "      <td>3231</td>\n",
       "      <td>145.0</td>\n",
       "      <td>19.0</td>\n",
       "      <td>IAD</td>\n",
       "      <td>TPA</td>\n",
       "      <td>810</td>\n",
       "      <td>1.0</td>\n",
       "    </tr>\n",
       "    <tr>\n",
       "      <th>2</th>\n",
       "      <td>2008</td>\n",
       "      <td>1</td>\n",
       "      <td>3</td>\n",
       "      <td>4</td>\n",
       "      <td>628.0</td>\n",
       "      <td>620</td>\n",
       "      <td>750</td>\n",
       "      <td>WN</td>\n",
       "      <td>448</td>\n",
       "      <td>90.0</td>\n",
       "      <td>8.0</td>\n",
       "      <td>IND</td>\n",
       "      <td>BWI</td>\n",
       "      <td>515</td>\n",
       "      <td>0.0</td>\n",
       "    </tr>\n",
       "    <tr>\n",
       "      <th>3</th>\n",
       "      <td>2008</td>\n",
       "      <td>1</td>\n",
       "      <td>3</td>\n",
       "      <td>4</td>\n",
       "      <td>926.0</td>\n",
       "      <td>930</td>\n",
       "      <td>1100</td>\n",
       "      <td>WN</td>\n",
       "      <td>1746</td>\n",
       "      <td>90.0</td>\n",
       "      <td>-4.0</td>\n",
       "      <td>IND</td>\n",
       "      <td>BWI</td>\n",
       "      <td>515</td>\n",
       "      <td>0.0</td>\n",
       "    </tr>\n",
       "    <tr>\n",
       "      <th>4</th>\n",
       "      <td>2008</td>\n",
       "      <td>1</td>\n",
       "      <td>3</td>\n",
       "      <td>4</td>\n",
       "      <td>1829.0</td>\n",
       "      <td>1755</td>\n",
       "      <td>1925</td>\n",
       "      <td>WN</td>\n",
       "      <td>3920</td>\n",
       "      <td>90.0</td>\n",
       "      <td>34.0</td>\n",
       "      <td>IND</td>\n",
       "      <td>BWI</td>\n",
       "      <td>515</td>\n",
       "      <td>1.0</td>\n",
       "    </tr>\n",
       "    <tr>\n",
       "      <th>...</th>\n",
       "      <td>...</td>\n",
       "      <td>...</td>\n",
       "      <td>...</td>\n",
       "      <td>...</td>\n",
       "      <td>...</td>\n",
       "      <td>...</td>\n",
       "      <td>...</td>\n",
       "      <td>...</td>\n",
       "      <td>...</td>\n",
       "      <td>...</td>\n",
       "      <td>...</td>\n",
       "      <td>...</td>\n",
       "      <td>...</td>\n",
       "      <td>...</td>\n",
       "      <td>...</td>\n",
       "    </tr>\n",
       "    <tr>\n",
       "      <th>3522568</th>\n",
       "      <td>2008</td>\n",
       "      <td>6</td>\n",
       "      <td>19</td>\n",
       "      <td>4</td>\n",
       "      <td>1059.0</td>\n",
       "      <td>1100</td>\n",
       "      <td>1256</td>\n",
       "      <td>DL</td>\n",
       "      <td>1547</td>\n",
       "      <td>236.0</td>\n",
       "      <td>-1.0</td>\n",
       "      <td>ATL</td>\n",
       "      <td>JAC</td>\n",
       "      <td>1572</td>\n",
       "      <td>0.0</td>\n",
       "    </tr>\n",
       "    <tr>\n",
       "      <th>3522569</th>\n",
       "      <td>2008</td>\n",
       "      <td>6</td>\n",
       "      <td>19</td>\n",
       "      <td>4</td>\n",
       "      <td>555.0</td>\n",
       "      <td>600</td>\n",
       "      <td>738</td>\n",
       "      <td>DL</td>\n",
       "      <td>1548</td>\n",
       "      <td>98.0</td>\n",
       "      <td>-5.0</td>\n",
       "      <td>RSW</td>\n",
       "      <td>ATL</td>\n",
       "      <td>515</td>\n",
       "      <td>0.0</td>\n",
       "    </tr>\n",
       "    <tr>\n",
       "      <th>3522570</th>\n",
       "      <td>2008</td>\n",
       "      <td>6</td>\n",
       "      <td>19</td>\n",
       "      <td>4</td>\n",
       "      <td>821.0</td>\n",
       "      <td>827</td>\n",
       "      <td>1003</td>\n",
       "      <td>DL</td>\n",
       "      <td>1548</td>\n",
       "      <td>96.0</td>\n",
       "      <td>-6.0</td>\n",
       "      <td>ATL</td>\n",
       "      <td>IND</td>\n",
       "      <td>432</td>\n",
       "      <td>0.0</td>\n",
       "    </tr>\n",
       "    <tr>\n",
       "      <th>3522571</th>\n",
       "      <td>2008</td>\n",
       "      <td>6</td>\n",
       "      <td>19</td>\n",
       "      <td>4</td>\n",
       "      <td>718.0</td>\n",
       "      <td>735</td>\n",
       "      <td>852</td>\n",
       "      <td>DL</td>\n",
       "      <td>1551</td>\n",
       "      <td>77.0</td>\n",
       "      <td>-17.0</td>\n",
       "      <td>CAE</td>\n",
       "      <td>ATL</td>\n",
       "      <td>191</td>\n",
       "      <td>0.0</td>\n",
       "    </tr>\n",
       "    <tr>\n",
       "      <th>3522572</th>\n",
       "      <td>2008</td>\n",
       "      <td>6</td>\n",
       "      <td>19</td>\n",
       "      <td>4</td>\n",
       "      <td>1127.0</td>\n",
       "      <td>951</td>\n",
       "      <td>1130</td>\n",
       "      <td>DL</td>\n",
       "      <td>1551</td>\n",
       "      <td>159.0</td>\n",
       "      <td>96.0</td>\n",
       "      <td>ATL</td>\n",
       "      <td>MSP</td>\n",
       "      <td>906</td>\n",
       "      <td>1.0</td>\n",
       "    </tr>\n",
       "  </tbody>\n",
       "</table>\n",
       "<p>3522573 rows × 15 columns</p>\n",
       "</div>"
      ],
      "text/plain": [
       "         Year  Month  DayofMonth  DayOfWeek  Actual_Shipment_Time  \\\n",
       "0        2008      1           3          4                2003.0   \n",
       "1        2008      1           3          4                 754.0   \n",
       "2        2008      1           3          4                 628.0   \n",
       "3        2008      1           3          4                 926.0   \n",
       "4        2008      1           3          4                1829.0   \n",
       "...       ...    ...         ...        ...                   ...   \n",
       "3522568  2008      6          19          4                1059.0   \n",
       "3522569  2008      6          19          4                 555.0   \n",
       "3522570  2008      6          19          4                 821.0   \n",
       "3522571  2008      6          19          4                 718.0   \n",
       "3522572  2008      6          19          4                1127.0   \n",
       "\n",
       "         Planned_Shipment_Time  Planned_Delivery_Time Carrier_Name  \\\n",
       "0                         1955                   2225           WN   \n",
       "1                          735                   1000           WN   \n",
       "2                          620                    750           WN   \n",
       "3                          930                   1100           WN   \n",
       "4                         1755                   1925           WN   \n",
       "...                        ...                    ...          ...   \n",
       "3522568                   1100                   1256           DL   \n",
       "3522569                    600                    738           DL   \n",
       "3522570                    827                   1003           DL   \n",
       "3522571                    735                    852           DL   \n",
       "3522572                    951                   1130           DL   \n",
       "\n",
       "         Carrier_Num  Planned_TimeofTravel  Shipment_Delay Source Destination  \\\n",
       "0                335                 150.0             8.0    IAD         TPA   \n",
       "1               3231                 145.0            19.0    IAD         TPA   \n",
       "2                448                  90.0             8.0    IND         BWI   \n",
       "3               1746                  90.0            -4.0    IND         BWI   \n",
       "4               3920                  90.0            34.0    IND         BWI   \n",
       "...              ...                   ...             ...    ...         ...   \n",
       "3522568         1547                 236.0            -1.0    ATL         JAC   \n",
       "3522569         1548                  98.0            -5.0    RSW         ATL   \n",
       "3522570         1548                  96.0            -6.0    ATL         IND   \n",
       "3522571         1551                  77.0           -17.0    CAE         ATL   \n",
       "3522572         1551                 159.0            96.0    ATL         MSP   \n",
       "\n",
       "         Distance  Delivery_Status  \n",
       "0             810              0.0  \n",
       "1             810              1.0  \n",
       "2             515              0.0  \n",
       "3             515              0.0  \n",
       "4             515              1.0  \n",
       "...           ...              ...  \n",
       "3522568      1572              0.0  \n",
       "3522569       515              0.0  \n",
       "3522570       432              0.0  \n",
       "3522571       191              0.0  \n",
       "3522572       906              1.0  \n",
       "\n",
       "[3522573 rows x 15 columns]"
      ]
     },
     "execution_count": 11,
     "metadata": {},
     "output_type": "execute_result"
    }
   ],
   "source": [
    "# We can see from the above that though the rows have been dropeed but indexes are going beyond the number of rows left. \n",
    "# We need to reset the indexes otherwise it will cause problems when we will try to combine 2 dataframes\n",
    "df = df.reset_index(drop=True)\n",
    "df"
   ]
  },
  {
   "cell_type": "code",
   "execution_count": 12,
   "metadata": {},
   "outputs": [
    {
     "data": {
      "text/plain": [
       "Year                       0\n",
       "Month                      0\n",
       "DayofMonth                 0\n",
       "DayOfWeek                  0\n",
       "Actual_Shipment_Time       0\n",
       "Planned_Shipment_Time      0\n",
       "Planned_Delivery_Time      0\n",
       "Carrier_Name               0\n",
       "Carrier_Num                0\n",
       "Planned_TimeofTravel     406\n",
       "Shipment_Delay             0\n",
       "Source                     0\n",
       "Destination                0\n",
       "Distance                   0\n",
       "Delivery_Status            0\n",
       "dtype: int64"
      ]
     },
     "execution_count": 12,
     "metadata": {},
     "output_type": "execute_result"
    }
   ],
   "source": [
    "df.isnull().sum()"
   ]
  },
  {
   "cell_type": "markdown",
   "metadata": {},
   "source": [
    "<b>BoxPlot: </b>  To identify the presence of outliers before imputing missing values"
   ]
  },
  {
   "cell_type": "code",
   "execution_count": 13,
   "metadata": {},
   "outputs": [
    {
     "data": {
      "image/png": "[encoded data removed]",
      "text/plain": [
       "<Figure size 720x72 with 1 Axes>"
      ]
     },
     "metadata": {
      "needs_background": "light"
     },
     "output_type": "display_data"
    }
   ],
   "source": [
    "fig, axes = plt.subplots(ncols=1, figsize=(10,1))\n",
    "\n",
    "sns.boxplot(x=\"Delivery_Status\", y=\"Planned_TimeofTravel\", data=df, palette=colors)\n",
    "axes.set_title('Planned_TimeofTravel vs Delivery_Status distribution')\n",
    "\n",
    "plt.show()"
   ]
  },
  {
   "cell_type": "markdown",
   "metadata": {},
   "source": [
    "<b> From the above box-plot, we can see that Planned_TimeofTravel has outliers so we will impute the values using median </b>"
   ]
  },
  {
   "cell_type": "code",
   "execution_count": 14,
   "metadata": {},
   "outputs": [],
   "source": [
    "missing_col = ['Planned_TimeofTravel']\n",
    " \n",
    "for i in missing_col:\n",
    "    df.loc[df.loc[:,i].isnull(),i]=df.loc[:,i].median()"
   ]
  },
  {
   "cell_type": "code",
   "execution_count": 15,
   "metadata": {},
   "outputs": [
    {
     "data": {
      "text/plain": [
       "Year                     0\n",
       "Month                    0\n",
       "DayofMonth               0\n",
       "DayOfWeek                0\n",
       "Actual_Shipment_Time     0\n",
       "Planned_Shipment_Time    0\n",
       "Planned_Delivery_Time    0\n",
       "Carrier_Name             0\n",
       "Carrier_Num              0\n",
       "Planned_TimeofTravel     0\n",
       "Shipment_Delay           0\n",
       "Source                   0\n",
       "Destination              0\n",
       "Distance                 0\n",
       "Delivery_Status          0\n",
       "dtype: int64"
      ]
     },
     "execution_count": 15,
     "metadata": {},
     "output_type": "execute_result"
    }
   ],
   "source": [
    "df.isnull().sum()"
   ]
  },
  {
   "cell_type": "code",
   "execution_count": 16,
   "metadata": {},
   "outputs": [
    {
     "data": {
      "text/plain": [
       "16      2524\n",
       "12      2442\n",
       "511     2397\n",
       "152     2315\n",
       "118     2296\n",
       "        ... \n",
       "9002       1\n",
       "6792       1\n",
       "4992       1\n",
       "6798       1\n",
       "6794       1\n",
       "Name: Carrier_Num, Length: 7339, dtype: int64"
      ]
     },
     "execution_count": 16,
     "metadata": {},
     "output_type": "execute_result"
    }
   ],
   "source": [
    "# Check whether Carrier_Num attribute has all unique values or it has repeatition\n",
    "df['Carrier_Num'].value_counts()"
   ]
  },
  {
   "cell_type": "code",
   "execution_count": 17,
   "metadata": {},
   "outputs": [],
   "source": [
    "#df.describe()"
   ]
  },
  {
   "cell_type": "code",
   "execution_count": 18,
   "metadata": {},
   "outputs": [
    {
     "data": {
      "text/plain": [
       "dtype('int64')"
      ]
     },
     "execution_count": 18,
     "metadata": {},
     "output_type": "execute_result"
    }
   ],
   "source": [
    "df['Year'].dtype"
   ]
  },
  {
   "cell_type": "code",
   "execution_count": 19,
   "metadata": {},
   "outputs": [],
   "source": [
    "df.drop(['Carrier_Name','Source','Destination'], axis=1, inplace = True)\n",
    "\n",
    "# We would also need to drop deterministic variable Shipment_Delay as it it clear that when Shipment_Delay is more than\n",
    "# 15 minutes, target variable is set to 1 i.e. Delayed delivery and vice versa\n",
    "df.drop(['Shipment_Delay'], axis=1, inplace = True)"
   ]
  },
  {
   "cell_type": "code",
   "execution_count": 20,
   "metadata": {},
   "outputs": [
    {
     "data": {
      "text/html": [
       "<div>\n",
       "<style scoped>\n",
       "    .dataframe tbody tr th:only-of-type {\n",
       "        vertical-align: middle;\n",
       "    }\n",
       "\n",
       "    .dataframe tbody tr th {\n",
       "        vertical-align: top;\n",
       "    }\n",
       "\n",
       "    .dataframe thead th {\n",
       "        text-align: right;\n",
       "    }\n",
       "</style>\n",
       "<table border=\"1\" class=\"dataframe\">\n",
       "  <thead>\n",
       "    <tr style=\"text-align: right;\">\n",
       "      <th></th>\n",
       "      <th>Year</th>\n",
       "      <th>Month</th>\n",
       "      <th>DayofMonth</th>\n",
       "      <th>DayOfWeek</th>\n",
       "      <th>Actual_Shipment_Time</th>\n",
       "      <th>Planned_Shipment_Time</th>\n",
       "      <th>Planned_Delivery_Time</th>\n",
       "      <th>Carrier_Num</th>\n",
       "      <th>Planned_TimeofTravel</th>\n",
       "      <th>Distance</th>\n",
       "      <th>Delivery_Status</th>\n",
       "    </tr>\n",
       "  </thead>\n",
       "  <tbody>\n",
       "    <tr>\n",
       "      <th>0</th>\n",
       "      <td>2008</td>\n",
       "      <td>1</td>\n",
       "      <td>3</td>\n",
       "      <td>4</td>\n",
       "      <td>2003.0</td>\n",
       "      <td>1955</td>\n",
       "      <td>2225</td>\n",
       "      <td>335</td>\n",
       "      <td>150.0</td>\n",
       "      <td>810</td>\n",
       "      <td>0.0</td>\n",
       "    </tr>\n",
       "    <tr>\n",
       "      <th>1</th>\n",
       "      <td>2008</td>\n",
       "      <td>1</td>\n",
       "      <td>3</td>\n",
       "      <td>4</td>\n",
       "      <td>754.0</td>\n",
       "      <td>735</td>\n",
       "      <td>1000</td>\n",
       "      <td>3231</td>\n",
       "      <td>145.0</td>\n",
       "      <td>810</td>\n",
       "      <td>1.0</td>\n",
       "    </tr>\n",
       "    <tr>\n",
       "      <th>2</th>\n",
       "      <td>2008</td>\n",
       "      <td>1</td>\n",
       "      <td>3</td>\n",
       "      <td>4</td>\n",
       "      <td>628.0</td>\n",
       "      <td>620</td>\n",
       "      <td>750</td>\n",
       "      <td>448</td>\n",
       "      <td>90.0</td>\n",
       "      <td>515</td>\n",
       "      <td>0.0</td>\n",
       "    </tr>\n",
       "    <tr>\n",
       "      <th>3</th>\n",
       "      <td>2008</td>\n",
       "      <td>1</td>\n",
       "      <td>3</td>\n",
       "      <td>4</td>\n",
       "      <td>926.0</td>\n",
       "      <td>930</td>\n",
       "      <td>1100</td>\n",
       "      <td>1746</td>\n",
       "      <td>90.0</td>\n",
       "      <td>515</td>\n",
       "      <td>0.0</td>\n",
       "    </tr>\n",
       "    <tr>\n",
       "      <th>4</th>\n",
       "      <td>2008</td>\n",
       "      <td>1</td>\n",
       "      <td>3</td>\n",
       "      <td>4</td>\n",
       "      <td>1829.0</td>\n",
       "      <td>1755</td>\n",
       "      <td>1925</td>\n",
       "      <td>3920</td>\n",
       "      <td>90.0</td>\n",
       "      <td>515</td>\n",
       "      <td>1.0</td>\n",
       "    </tr>\n",
       "    <tr>\n",
       "      <th>...</th>\n",
       "      <td>...</td>\n",
       "      <td>...</td>\n",
       "      <td>...</td>\n",
       "      <td>...</td>\n",
       "      <td>...</td>\n",
       "      <td>...</td>\n",
       "      <td>...</td>\n",
       "      <td>...</td>\n",
       "      <td>...</td>\n",
       "      <td>...</td>\n",
       "      <td>...</td>\n",
       "    </tr>\n",
       "    <tr>\n",
       "      <th>3522568</th>\n",
       "      <td>2008</td>\n",
       "      <td>6</td>\n",
       "      <td>19</td>\n",
       "      <td>4</td>\n",
       "      <td>1059.0</td>\n",
       "      <td>1100</td>\n",
       "      <td>1256</td>\n",
       "      <td>1547</td>\n",
       "      <td>236.0</td>\n",
       "      <td>1572</td>\n",
       "      <td>0.0</td>\n",
       "    </tr>\n",
       "    <tr>\n",
       "      <th>3522569</th>\n",
       "      <td>2008</td>\n",
       "      <td>6</td>\n",
       "      <td>19</td>\n",
       "      <td>4</td>\n",
       "      <td>555.0</td>\n",
       "      <td>600</td>\n",
       "      <td>738</td>\n",
       "      <td>1548</td>\n",
       "      <td>98.0</td>\n",
       "      <td>515</td>\n",
       "      <td>0.0</td>\n",
       "    </tr>\n",
       "    <tr>\n",
       "      <th>3522570</th>\n",
       "      <td>2008</td>\n",
       "      <td>6</td>\n",
       "      <td>19</td>\n",
       "      <td>4</td>\n",
       "      <td>821.0</td>\n",
       "      <td>827</td>\n",
       "      <td>1003</td>\n",
       "      <td>1548</td>\n",
       "      <td>96.0</td>\n",
       "      <td>432</td>\n",
       "      <td>0.0</td>\n",
       "    </tr>\n",
       "    <tr>\n",
       "      <th>3522571</th>\n",
       "      <td>2008</td>\n",
       "      <td>6</td>\n",
       "      <td>19</td>\n",
       "      <td>4</td>\n",
       "      <td>718.0</td>\n",
       "      <td>735</td>\n",
       "      <td>852</td>\n",
       "      <td>1551</td>\n",
       "      <td>77.0</td>\n",
       "      <td>191</td>\n",
       "      <td>0.0</td>\n",
       "    </tr>\n",
       "    <tr>\n",
       "      <th>3522572</th>\n",
       "      <td>2008</td>\n",
       "      <td>6</td>\n",
       "      <td>19</td>\n",
       "      <td>4</td>\n",
       "      <td>1127.0</td>\n",
       "      <td>951</td>\n",
       "      <td>1130</td>\n",
       "      <td>1551</td>\n",
       "      <td>159.0</td>\n",
       "      <td>906</td>\n",
       "      <td>1.0</td>\n",
       "    </tr>\n",
       "  </tbody>\n",
       "</table>\n",
       "<p>3522573 rows × 11 columns</p>\n",
       "</div>"
      ],
      "text/plain": [
       "         Year  Month  DayofMonth  DayOfWeek  Actual_Shipment_Time  \\\n",
       "0        2008      1           3          4                2003.0   \n",
       "1        2008      1           3          4                 754.0   \n",
       "2        2008      1           3          4                 628.0   \n",
       "3        2008      1           3          4                 926.0   \n",
       "4        2008      1           3          4                1829.0   \n",
       "...       ...    ...         ...        ...                   ...   \n",
       "3522568  2008      6          19          4                1059.0   \n",
       "3522569  2008      6          19          4                 555.0   \n",
       "3522570  2008      6          19          4                 821.0   \n",
       "3522571  2008      6          19          4                 718.0   \n",
       "3522572  2008      6          19          4                1127.0   \n",
       "\n",
       "         Planned_Shipment_Time  Planned_Delivery_Time  Carrier_Num  \\\n",
       "0                         1955                   2225          335   \n",
       "1                          735                   1000         3231   \n",
       "2                          620                    750          448   \n",
       "3                          930                   1100         1746   \n",
       "4                         1755                   1925         3920   \n",
       "...                        ...                    ...          ...   \n",
       "3522568                   1100                   1256         1547   \n",
       "3522569                    600                    738         1548   \n",
       "3522570                    827                   1003         1548   \n",
       "3522571                    735                    852         1551   \n",
       "3522572                    951                   1130         1551   \n",
       "\n",
       "         Planned_TimeofTravel  Distance  Delivery_Status  \n",
       "0                       150.0       810              0.0  \n",
       "1                       145.0       810              1.0  \n",
       "2                        90.0       515              0.0  \n",
       "3                        90.0       515              0.0  \n",
       "4                        90.0       515              1.0  \n",
       "...                       ...       ...              ...  \n",
       "3522568                 236.0      1572              0.0  \n",
       "3522569                  98.0       515              0.0  \n",
       "3522570                  96.0       432              0.0  \n",
       "3522571                  77.0       191              0.0  \n",
       "3522572                 159.0       906              1.0  \n",
       "\n",
       "[3522573 rows x 11 columns]"
      ]
     },
     "execution_count": 20,
     "metadata": {},
     "output_type": "execute_result"
    }
   ],
   "source": [
    "df"
   ]
  },
  {
   "cell_type": "code",
   "execution_count": 21,
   "metadata": {},
   "outputs": [],
   "source": [
    "#character_columns = df[['Year','Month','DayofMonth','DayOfWeek','Carrier_Name', 'Carrier_Num', 'Source', 'Destination','Delivery_Status']]\n",
    "#fedex_chr_df = character_columns.copy()\n",
    "#print(fedex_chr_df.head())\n",
    "\n",
    "#numeric_columns = df[[\"Actual_Shipment_Time\",\"Planned_Shipment_Time\",\"Planned_Delivery_Time\",\"Planned_TimeofTravel\",\"Shipment_Delay\",\"Distance\"]]\n",
    "#fedex_num_df = numeric_columns.copy()\n",
    "#print(fedex_num_df.head())\n"
   ]
  },
  {
   "cell_type": "code",
   "execution_count": 22,
   "metadata": {},
   "outputs": [
    {
     "data": {
      "text/html": [
       "<div>\n",
       "<style scoped>\n",
       "    .dataframe tbody tr th:only-of-type {\n",
       "        vertical-align: middle;\n",
       "    }\n",
       "\n",
       "    .dataframe tbody tr th {\n",
       "        vertical-align: top;\n",
       "    }\n",
       "\n",
       "    .dataframe thead th {\n",
       "        text-align: right;\n",
       "    }\n",
       "</style>\n",
       "<table border=\"1\" class=\"dataframe\">\n",
       "  <thead>\n",
       "    <tr style=\"text-align: right;\">\n",
       "      <th></th>\n",
       "      <th>Delivery_Status</th>\n",
       "      <th>scaled_Year</th>\n",
       "      <th>scaled_Month</th>\n",
       "      <th>scaled_DayofMonth</th>\n",
       "      <th>scaled_DayofWeek</th>\n",
       "      <th>scaled_Actual_Shipment_Time</th>\n",
       "      <th>scaled_Planned_Shipment_Time</th>\n",
       "      <th>scaled_Planned_Delivery_Time</th>\n",
       "      <th>scaled_Carrier_Num</th>\n",
       "      <th>scaled_Planned_TimeofTravel</th>\n",
       "    </tr>\n",
       "  </thead>\n",
       "  <tbody>\n",
       "    <tr>\n",
       "      <th>0</th>\n",
       "      <td>0.0</td>\n",
       "      <td>0.0</td>\n",
       "      <td>-1.0</td>\n",
       "      <td>-0.866667</td>\n",
       "      <td>0.0</td>\n",
       "      <td>0.838308</td>\n",
       "      <td>0.798742</td>\n",
       "      <td>0.889447</td>\n",
       "      <td>-0.414247</td>\n",
       "      <td>0.4875</td>\n",
       "    </tr>\n",
       "    <tr>\n",
       "      <th>1</th>\n",
       "      <td>1.0</td>\n",
       "      <td>0.0</td>\n",
       "      <td>-1.0</td>\n",
       "      <td>-0.866667</td>\n",
       "      <td>0.0</td>\n",
       "      <td>-0.715174</td>\n",
       "      <td>-0.735849</td>\n",
       "      <td>-0.649497</td>\n",
       "      <td>0.563471</td>\n",
       "      <td>0.4250</td>\n",
       "    </tr>\n",
       "    <tr>\n",
       "      <th>2</th>\n",
       "      <td>0.0</td>\n",
       "      <td>0.0</td>\n",
       "      <td>-1.0</td>\n",
       "      <td>-0.866667</td>\n",
       "      <td>0.0</td>\n",
       "      <td>-0.871891</td>\n",
       "      <td>-0.880503</td>\n",
       "      <td>-0.963568</td>\n",
       "      <td>-0.376097</td>\n",
       "      <td>-0.2625</td>\n",
       "    </tr>\n",
       "    <tr>\n",
       "      <th>3</th>\n",
       "      <td>0.0</td>\n",
       "      <td>0.0</td>\n",
       "      <td>-1.0</td>\n",
       "      <td>-0.866667</td>\n",
       "      <td>0.0</td>\n",
       "      <td>-0.501244</td>\n",
       "      <td>-0.490566</td>\n",
       "      <td>-0.523869</td>\n",
       "      <td>0.062120</td>\n",
       "      <td>-0.2625</td>\n",
       "    </tr>\n",
       "    <tr>\n",
       "      <th>4</th>\n",
       "      <td>1.0</td>\n",
       "      <td>0.0</td>\n",
       "      <td>-1.0</td>\n",
       "      <td>-0.866667</td>\n",
       "      <td>0.0</td>\n",
       "      <td>0.621891</td>\n",
       "      <td>0.547170</td>\n",
       "      <td>0.512563</td>\n",
       "      <td>0.796084</td>\n",
       "      <td>-0.2625</td>\n",
       "    </tr>\n",
       "  </tbody>\n",
       "</table>\n",
       "</div>"
      ],
      "text/plain": [
       "   Delivery_Status  scaled_Year  scaled_Month  scaled_DayofMonth  \\\n",
       "0              0.0          0.0          -1.0          -0.866667   \n",
       "1              1.0          0.0          -1.0          -0.866667   \n",
       "2              0.0          0.0          -1.0          -0.866667   \n",
       "3              0.0          0.0          -1.0          -0.866667   \n",
       "4              1.0          0.0          -1.0          -0.866667   \n",
       "\n",
       "   scaled_DayofWeek  scaled_Actual_Shipment_Time  \\\n",
       "0               0.0                     0.838308   \n",
       "1               0.0                    -0.715174   \n",
       "2               0.0                    -0.871891   \n",
       "3               0.0                    -0.501244   \n",
       "4               0.0                     0.621891   \n",
       "\n",
       "   scaled_Planned_Shipment_Time  scaled_Planned_Delivery_Time  \\\n",
       "0                      0.798742                      0.889447   \n",
       "1                     -0.735849                     -0.649497   \n",
       "2                     -0.880503                     -0.963568   \n",
       "3                     -0.490566                     -0.523869   \n",
       "4                      0.547170                      0.512563   \n",
       "\n",
       "   scaled_Carrier_Num  scaled_Planned_TimeofTravel  \n",
       "0           -0.414247                       0.4875  \n",
       "1            0.563471                       0.4250  \n",
       "2           -0.376097                      -0.2625  \n",
       "3            0.062120                      -0.2625  \n",
       "4            0.796084                      -0.2625  "
      ]
     },
     "execution_count": 22,
     "metadata": {},
     "output_type": "execute_result"
    }
   ],
   "source": [
    "#Since most of our data is already scaled, we need to scale the remaining columns\n",
    "from sklearn.preprocessing import StandardScaler, RobustScaler\n",
    "\n",
    "# Let us use RobustScaler as it is less prone to outliers.\n",
    "\n",
    "#std_scaler = StandardScaler()\n",
    "rob_scaler = RobustScaler()\n",
    "df['scaled_Year'] = rob_scaler.fit_transform(df['Year'].values.reshape(-1,1))\n",
    "df['scaled_Month'] = rob_scaler.fit_transform(df['Month'].values.reshape(-1,1))\n",
    "df['scaled_DayofMonth'] = rob_scaler.fit_transform(df['DayofMonth'].values.reshape(-1,1))\n",
    "df['scaled_DayofWeek'] = rob_scaler.fit_transform(df['DayOfWeek'].values.reshape(-1,1))\n",
    "\n",
    "df['scaled_Actual_Shipment_Time'] = rob_scaler.fit_transform(df['Actual_Shipment_Time'].values.reshape(-1,1))\n",
    "df['scaled_Planned_Shipment_Time'] = rob_scaler.fit_transform(df['Planned_Shipment_Time'].values.reshape(-1,1))\n",
    "df['scaled_Planned_Delivery_Time'] = rob_scaler.fit_transform(df['Planned_Delivery_Time'].values.reshape(-1,1))\n",
    "df['scaled_Carrier_Num'] = rob_scaler.fit_transform(df['Carrier_Num'].values.reshape(-1,1))\n",
    "df['scaled_Planned_TimeofTravel'] = rob_scaler.fit_transform(df['Planned_TimeofTravel'].values.reshape(-1,1))\n",
    "#df['scaled_Shipment_Delay'] = rob_scaler.fit_transform(df['Shipment_Delay'].values.reshape(-1,1))\n",
    "df['Distance'] = rob_scaler.fit_transform(df['Distance'].values.reshape(-1,1))\n",
    "\n",
    "#df.drop(['Year', 'Month', 'DayofMonth', 'DayOfWeek', 'Actual_Shipment_Time','Planned_Shipment_Time','Planned_Delivery_Time','Carrier_Num', 'Planned_TimeofTravel','Shipment_Delay','Distance'], axis=1, inplace=True)\n",
    "df.drop(['Year', 'Month', 'DayofMonth', 'DayOfWeek', 'Actual_Shipment_Time','Planned_Shipment_Time','Planned_Delivery_Time','Carrier_Num', 'Planned_TimeofTravel','Distance'], axis=1, inplace=True)\n",
    "\n",
    "df.head()"
   ]
  },
  {
   "cell_type": "markdown",
   "metadata": {},
   "source": [
    "# Train and Test Split:"
   ]
  },
  {
   "cell_type": "code",
   "execution_count": 23,
   "metadata": {},
   "outputs": [],
   "source": [
    "x = df.drop(['Delivery_Status'], axis=1)\n",
    "y = df['Delivery_Status']"
   ]
  },
  {
   "cell_type": "code",
   "execution_count": 24,
   "metadata": {
    "scrolled": true
   },
   "outputs": [
    {
     "data": {
      "text/plain": [
       "array([0.30340066, 0.26542212, 0.10859485, 0.10747379, 0.10221581,\n",
       "       0.07761555, 0.03152108, 0.00375615, 0.        ])"
      ]
     },
     "execution_count": 24,
     "metadata": {},
     "output_type": "execute_result"
    }
   ],
   "source": [
    "from sklearn.decomposition import PCA\n",
    "pca = PCA()\n",
    "principalComponents = pca.fit_transform(x)\n",
    "pca.explained_variance_ratio_"
   ]
  },
  {
   "cell_type": "code",
   "execution_count": 25,
   "metadata": {},
   "outputs": [
    {
     "data": {
      "text/plain": [
       "0.99624386"
      ]
     },
     "execution_count": 25,
     "metadata": {},
     "output_type": "execute_result"
    }
   ],
   "source": [
    "0.30340066 + 0.26542212 + 0.10859485 + 0.10747379 + 0.10221581 + 0.07761555 + 0.03152108"
   ]
  },
  {
   "cell_type": "markdown",
   "metadata": {},
   "source": [
    "### As more than 99% of the variance is explained by first 7 out of 9 Principal components so we will consider those 7 only in our model building"
   ]
  },
  {
   "cell_type": "code",
   "execution_count": 26,
   "metadata": {},
   "outputs": [
    {
     "data": {
      "text/plain": [
       "array([[-1.51347093,  0.35075387, -0.65803851, ..., -0.11237933,\n",
       "         0.01453326,  0.        ],\n",
       "       [ 1.19825716,  0.16760647,  0.16331259, ..., -0.05601657,\n",
       "         0.0203344 , -0.        ],\n",
       "       [ 1.563283  , -0.04600042, -0.95863208, ...,  0.04485061,\n",
       "         0.01904819, -0.        ],\n",
       "       ...,\n",
       "       [ 1.11683953, -0.18514877, -0.28492866, ..., -0.01724138,\n",
       "         0.00332006,  0.        ],\n",
       "       [ 1.38601842, -0.37810543, -0.38290124, ...,  0.03269347,\n",
       "        -0.00337065,  0.        ],\n",
       "       [ 0.64462595,  0.48526581,  0.03269795, ...,  0.09767283,\n",
       "         0.15920784,  0.        ]])"
      ]
     },
     "execution_count": 26,
     "metadata": {},
     "output_type": "execute_result"
    }
   ],
   "source": [
    "principalComponents"
   ]
  },
  {
   "cell_type": "code",
   "execution_count": 27,
   "metadata": {
    "scrolled": false
   },
   "outputs": [
    {
     "data": {
      "text/html": [
       "<div>\n",
       "<style scoped>\n",
       "    .dataframe tbody tr th:only-of-type {\n",
       "        vertical-align: middle;\n",
       "    }\n",
       "\n",
       "    .dataframe tbody tr th {\n",
       "        vertical-align: top;\n",
       "    }\n",
       "\n",
       "    .dataframe thead th {\n",
       "        text-align: right;\n",
       "    }\n",
       "</style>\n",
       "<table border=\"1\" class=\"dataframe\">\n",
       "  <thead>\n",
       "    <tr style=\"text-align: right;\">\n",
       "      <th></th>\n",
       "      <th>0</th>\n",
       "      <th>1</th>\n",
       "      <th>2</th>\n",
       "      <th>3</th>\n",
       "      <th>4</th>\n",
       "      <th>5</th>\n",
       "      <th>6</th>\n",
       "      <th>7</th>\n",
       "      <th>8</th>\n",
       "    </tr>\n",
       "  </thead>\n",
       "  <tbody>\n",
       "    <tr>\n",
       "      <th>0</th>\n",
       "      <td>-1.513471</td>\n",
       "      <td>0.350754</td>\n",
       "      <td>-0.658039</td>\n",
       "      <td>0.689365</td>\n",
       "      <td>0.839807</td>\n",
       "      <td>0.008182</td>\n",
       "      <td>-0.112379</td>\n",
       "      <td>0.014533</td>\n",
       "      <td>0.0</td>\n",
       "    </tr>\n",
       "    <tr>\n",
       "      <th>1</th>\n",
       "      <td>1.198257</td>\n",
       "      <td>0.167606</td>\n",
       "      <td>0.163313</td>\n",
       "      <td>0.850196</td>\n",
       "      <td>0.915537</td>\n",
       "      <td>0.003141</td>\n",
       "      <td>-0.056017</td>\n",
       "      <td>0.020334</td>\n",
       "      <td>-0.0</td>\n",
       "    </tr>\n",
       "    <tr>\n",
       "      <th>2</th>\n",
       "      <td>1.563283</td>\n",
       "      <td>-0.046000</td>\n",
       "      <td>-0.958632</td>\n",
       "      <td>0.638523</td>\n",
       "      <td>0.835090</td>\n",
       "      <td>-0.018868</td>\n",
       "      <td>0.044851</td>\n",
       "      <td>0.019048</td>\n",
       "      <td>-0.0</td>\n",
       "    </tr>\n",
       "    <tr>\n",
       "      <th>3</th>\n",
       "      <td>0.896919</td>\n",
       "      <td>-0.291082</td>\n",
       "      <td>-0.558121</td>\n",
       "      <td>0.713459</td>\n",
       "      <td>0.863075</td>\n",
       "      <td>-0.011448</td>\n",
       "      <td>-0.012998</td>\n",
       "      <td>-0.002955</td>\n",
       "      <td>-0.0</td>\n",
       "    </tr>\n",
       "    <tr>\n",
       "      <th>4</th>\n",
       "      <td>-0.903420</td>\n",
       "      <td>-0.775221</td>\n",
       "      <td>0.117206</td>\n",
       "      <td>0.838759</td>\n",
       "      <td>0.907146</td>\n",
       "      <td>0.003979</td>\n",
       "      <td>-0.006589</td>\n",
       "      <td>0.037315</td>\n",
       "      <td>-0.0</td>\n",
       "    </tr>\n",
       "    <tr>\n",
       "      <th>...</th>\n",
       "      <td>...</td>\n",
       "      <td>...</td>\n",
       "      <td>...</td>\n",
       "      <td>...</td>\n",
       "      <td>...</td>\n",
       "      <td>...</td>\n",
       "      <td>...</td>\n",
       "      <td>...</td>\n",
       "      <td>...</td>\n",
       "    </tr>\n",
       "    <tr>\n",
       "      <th>3522568</th>\n",
       "      <td>0.412525</td>\n",
       "      <td>1.348705</td>\n",
       "      <td>0.418620</td>\n",
       "      <td>-0.100881</td>\n",
       "      <td>-0.814863</td>\n",
       "      <td>0.022453</td>\n",
       "      <td>0.049564</td>\n",
       "      <td>-0.033707</td>\n",
       "      <td>0.0</td>\n",
       "    </tr>\n",
       "    <tr>\n",
       "      <th>3522569</th>\n",
       "      <td>1.659690</td>\n",
       "      <td>-0.107938</td>\n",
       "      <td>-0.281407</td>\n",
       "      <td>-0.229589</td>\n",
       "      <td>-0.851448</td>\n",
       "      <td>-0.011503</td>\n",
       "      <td>0.014974</td>\n",
       "      <td>-0.023774</td>\n",
       "      <td>0.0</td>\n",
       "    </tr>\n",
       "    <tr>\n",
       "      <th>3522570</th>\n",
       "      <td>1.116840</td>\n",
       "      <td>-0.185149</td>\n",
       "      <td>-0.284929</td>\n",
       "      <td>-0.231148</td>\n",
       "      <td>-0.853834</td>\n",
       "      <td>-0.009196</td>\n",
       "      <td>-0.017241</td>\n",
       "      <td>0.003320</td>\n",
       "      <td>0.0</td>\n",
       "    </tr>\n",
       "    <tr>\n",
       "      <th>3522571</th>\n",
       "      <td>1.386018</td>\n",
       "      <td>-0.378105</td>\n",
       "      <td>-0.382901</td>\n",
       "      <td>-0.248987</td>\n",
       "      <td>-0.858717</td>\n",
       "      <td>-0.014507</td>\n",
       "      <td>0.032693</td>\n",
       "      <td>-0.003371</td>\n",
       "      <td>0.0</td>\n",
       "    </tr>\n",
       "    <tr>\n",
       "      <th>3522572</th>\n",
       "      <td>0.644626</td>\n",
       "      <td>0.485266</td>\n",
       "      <td>0.032698</td>\n",
       "      <td>-0.172435</td>\n",
       "      <td>-0.836730</td>\n",
       "      <td>0.005668</td>\n",
       "      <td>0.097673</td>\n",
       "      <td>0.159208</td>\n",
       "      <td>0.0</td>\n",
       "    </tr>\n",
       "  </tbody>\n",
       "</table>\n",
       "<p>3522573 rows × 9 columns</p>\n",
       "</div>"
      ],
      "text/plain": [
       "                0         1         2         3         4         5         6  \\\n",
       "0       -1.513471  0.350754 -0.658039  0.689365  0.839807  0.008182 -0.112379   \n",
       "1        1.198257  0.167606  0.163313  0.850196  0.915537  0.003141 -0.056017   \n",
       "2        1.563283 -0.046000 -0.958632  0.638523  0.835090 -0.018868  0.044851   \n",
       "3        0.896919 -0.291082 -0.558121  0.713459  0.863075 -0.011448 -0.012998   \n",
       "4       -0.903420 -0.775221  0.117206  0.838759  0.907146  0.003979 -0.006589   \n",
       "...           ...       ...       ...       ...       ...       ...       ...   \n",
       "3522568  0.412525  1.348705  0.418620 -0.100881 -0.814863  0.022453  0.049564   \n",
       "3522569  1.659690 -0.107938 -0.281407 -0.229589 -0.851448 -0.011503  0.014974   \n",
       "3522570  1.116840 -0.185149 -0.284929 -0.231148 -0.853834 -0.009196 -0.017241   \n",
       "3522571  1.386018 -0.378105 -0.382901 -0.248987 -0.858717 -0.014507  0.032693   \n",
       "3522572  0.644626  0.485266  0.032698 -0.172435 -0.836730  0.005668  0.097673   \n",
       "\n",
       "                7    8  \n",
       "0        0.014533  0.0  \n",
       "1        0.020334 -0.0  \n",
       "2        0.019048 -0.0  \n",
       "3       -0.002955 -0.0  \n",
       "4        0.037315 -0.0  \n",
       "...           ...  ...  \n",
       "3522568 -0.033707  0.0  \n",
       "3522569 -0.023774  0.0  \n",
       "3522570  0.003320  0.0  \n",
       "3522571 -0.003371  0.0  \n",
       "3522572  0.159208  0.0  \n",
       "\n",
       "[3522573 rows x 9 columns]"
      ]
     },
     "execution_count": 27,
     "metadata": {},
     "output_type": "execute_result"
    }
   ],
   "source": [
    "principalDf = pd.DataFrame(data = principalComponents)\n",
    "principalDf"
   ]
  },
  {
   "cell_type": "code",
   "execution_count": 28,
   "metadata": {},
   "outputs": [],
   "source": [
    "Principal_Component_1 = principalDf[0]\n",
    "Principal_Component_2 = principalDf[1]\n",
    "Principal_Component_3 = principalDf[2]\n",
    "Principal_Component_4 = principalDf[3]\n",
    "Principal_Component_5 = principalDf[4]\n",
    "Principal_Component_6 = principalDf[5]\n",
    "Principal_Component_7 = principalDf[6]\n",
    "\n",
    "#principalDf.drop([0, 1, 2, 3, 4,5,6,7,8], axis=1, inplace=True)\n",
    "#principalDf\n"
   ]
  },
  {
   "cell_type": "code",
   "execution_count": 29,
   "metadata": {},
   "outputs": [],
   "source": [
    "principalDf.drop([0, 1, 2, 3, 4,5,6,7,8], axis=1, inplace=True)"
   ]
  },
  {
   "cell_type": "code",
   "execution_count": 30,
   "metadata": {},
   "outputs": [
    {
     "data": {
      "text/html": [
       "<div>\n",
       "<style scoped>\n",
       "    .dataframe tbody tr th:only-of-type {\n",
       "        vertical-align: middle;\n",
       "    }\n",
       "\n",
       "    .dataframe tbody tr th {\n",
       "        vertical-align: top;\n",
       "    }\n",
       "\n",
       "    .dataframe thead th {\n",
       "        text-align: right;\n",
       "    }\n",
       "</style>\n",
       "<table border=\"1\" class=\"dataframe\">\n",
       "  <thead>\n",
       "    <tr style=\"text-align: right;\">\n",
       "      <th></th>\n",
       "      <th>Principal_Component_1</th>\n",
       "      <th>Principal_Component_2</th>\n",
       "      <th>Principal_Component_3</th>\n",
       "      <th>Principal_Component_4</th>\n",
       "      <th>Principal_Component_5</th>\n",
       "      <th>Principal_Component_6</th>\n",
       "      <th>Principal_Component_7</th>\n",
       "    </tr>\n",
       "  </thead>\n",
       "  <tbody>\n",
       "    <tr>\n",
       "      <th>0</th>\n",
       "      <td>-1.513471</td>\n",
       "      <td>0.350754</td>\n",
       "      <td>-0.658039</td>\n",
       "      <td>0.689365</td>\n",
       "      <td>0.839807</td>\n",
       "      <td>0.008182</td>\n",
       "      <td>-0.112379</td>\n",
       "    </tr>\n",
       "    <tr>\n",
       "      <th>1</th>\n",
       "      <td>1.198257</td>\n",
       "      <td>0.167606</td>\n",
       "      <td>0.163313</td>\n",
       "      <td>0.850196</td>\n",
       "      <td>0.915537</td>\n",
       "      <td>0.003141</td>\n",
       "      <td>-0.056017</td>\n",
       "    </tr>\n",
       "    <tr>\n",
       "      <th>2</th>\n",
       "      <td>1.563283</td>\n",
       "      <td>-0.046000</td>\n",
       "      <td>-0.958632</td>\n",
       "      <td>0.638523</td>\n",
       "      <td>0.835090</td>\n",
       "      <td>-0.018868</td>\n",
       "      <td>0.044851</td>\n",
       "    </tr>\n",
       "    <tr>\n",
       "      <th>3</th>\n",
       "      <td>0.896919</td>\n",
       "      <td>-0.291082</td>\n",
       "      <td>-0.558121</td>\n",
       "      <td>0.713459</td>\n",
       "      <td>0.863075</td>\n",
       "      <td>-0.011448</td>\n",
       "      <td>-0.012998</td>\n",
       "    </tr>\n",
       "    <tr>\n",
       "      <th>4</th>\n",
       "      <td>-0.903420</td>\n",
       "      <td>-0.775221</td>\n",
       "      <td>0.117206</td>\n",
       "      <td>0.838759</td>\n",
       "      <td>0.907146</td>\n",
       "      <td>0.003979</td>\n",
       "      <td>-0.006589</td>\n",
       "    </tr>\n",
       "    <tr>\n",
       "      <th>...</th>\n",
       "      <td>...</td>\n",
       "      <td>...</td>\n",
       "      <td>...</td>\n",
       "      <td>...</td>\n",
       "      <td>...</td>\n",
       "      <td>...</td>\n",
       "      <td>...</td>\n",
       "    </tr>\n",
       "    <tr>\n",
       "      <th>3522568</th>\n",
       "      <td>0.412525</td>\n",
       "      <td>1.348705</td>\n",
       "      <td>0.418620</td>\n",
       "      <td>-0.100881</td>\n",
       "      <td>-0.814863</td>\n",
       "      <td>0.022453</td>\n",
       "      <td>0.049564</td>\n",
       "    </tr>\n",
       "    <tr>\n",
       "      <th>3522569</th>\n",
       "      <td>1.659690</td>\n",
       "      <td>-0.107938</td>\n",
       "      <td>-0.281407</td>\n",
       "      <td>-0.229589</td>\n",
       "      <td>-0.851448</td>\n",
       "      <td>-0.011503</td>\n",
       "      <td>0.014974</td>\n",
       "    </tr>\n",
       "    <tr>\n",
       "      <th>3522570</th>\n",
       "      <td>1.116840</td>\n",
       "      <td>-0.185149</td>\n",
       "      <td>-0.284929</td>\n",
       "      <td>-0.231148</td>\n",
       "      <td>-0.853834</td>\n",
       "      <td>-0.009196</td>\n",
       "      <td>-0.017241</td>\n",
       "    </tr>\n",
       "    <tr>\n",
       "      <th>3522571</th>\n",
       "      <td>1.386018</td>\n",
       "      <td>-0.378105</td>\n",
       "      <td>-0.382901</td>\n",
       "      <td>-0.248987</td>\n",
       "      <td>-0.858717</td>\n",
       "      <td>-0.014507</td>\n",
       "      <td>0.032693</td>\n",
       "    </tr>\n",
       "    <tr>\n",
       "      <th>3522572</th>\n",
       "      <td>0.644626</td>\n",
       "      <td>0.485266</td>\n",
       "      <td>0.032698</td>\n",
       "      <td>-0.172435</td>\n",
       "      <td>-0.836730</td>\n",
       "      <td>0.005668</td>\n",
       "      <td>0.097673</td>\n",
       "    </tr>\n",
       "  </tbody>\n",
       "</table>\n",
       "<p>3522573 rows × 7 columns</p>\n",
       "</div>"
      ],
      "text/plain": [
       "         Principal_Component_1  Principal_Component_2  Principal_Component_3  \\\n",
       "0                    -1.513471               0.350754              -0.658039   \n",
       "1                     1.198257               0.167606               0.163313   \n",
       "2                     1.563283              -0.046000              -0.958632   \n",
       "3                     0.896919              -0.291082              -0.558121   \n",
       "4                    -0.903420              -0.775221               0.117206   \n",
       "...                        ...                    ...                    ...   \n",
       "3522568               0.412525               1.348705               0.418620   \n",
       "3522569               1.659690              -0.107938              -0.281407   \n",
       "3522570               1.116840              -0.185149              -0.284929   \n",
       "3522571               1.386018              -0.378105              -0.382901   \n",
       "3522572               0.644626               0.485266               0.032698   \n",
       "\n",
       "         Principal_Component_4  Principal_Component_5  Principal_Component_6  \\\n",
       "0                     0.689365               0.839807               0.008182   \n",
       "1                     0.850196               0.915537               0.003141   \n",
       "2                     0.638523               0.835090              -0.018868   \n",
       "3                     0.713459               0.863075              -0.011448   \n",
       "4                     0.838759               0.907146               0.003979   \n",
       "...                        ...                    ...                    ...   \n",
       "3522568              -0.100881              -0.814863               0.022453   \n",
       "3522569              -0.229589              -0.851448              -0.011503   \n",
       "3522570              -0.231148              -0.853834              -0.009196   \n",
       "3522571              -0.248987              -0.858717              -0.014507   \n",
       "3522572              -0.172435              -0.836730               0.005668   \n",
       "\n",
       "         Principal_Component_7  \n",
       "0                    -0.112379  \n",
       "1                    -0.056017  \n",
       "2                     0.044851  \n",
       "3                    -0.012998  \n",
       "4                    -0.006589  \n",
       "...                        ...  \n",
       "3522568               0.049564  \n",
       "3522569               0.014974  \n",
       "3522570              -0.017241  \n",
       "3522571               0.032693  \n",
       "3522572               0.097673  \n",
       "\n",
       "[3522573 rows x 7 columns]"
      ]
     },
     "execution_count": 30,
     "metadata": {},
     "output_type": "execute_result"
    }
   ],
   "source": [
    "principalDf.insert(0, 'Principal_Component_1', Principal_Component_1)\n",
    "principalDf.insert(1, 'Principal_Component_2', Principal_Component_2)\n",
    "principalDf.insert(2, 'Principal_Component_3', Principal_Component_3)\n",
    "principalDf.insert(3, 'Principal_Component_4', Principal_Component_4)\n",
    "principalDf.insert(4, 'Principal_Component_5', Principal_Component_5)\n",
    "principalDf.insert(5, 'Principal_Component_6', Principal_Component_6)\n",
    "principalDf.insert(6, 'Principal_Component_7', Principal_Component_7)\n",
    "\n",
    "principalDf"
   ]
  },
  {
   "cell_type": "code",
   "execution_count": 31,
   "metadata": {},
   "outputs": [
    {
     "data": {
      "text/html": [
       "<div>\n",
       "<style scoped>\n",
       "    .dataframe tbody tr th:only-of-type {\n",
       "        vertical-align: middle;\n",
       "    }\n",
       "\n",
       "    .dataframe tbody tr th {\n",
       "        vertical-align: top;\n",
       "    }\n",
       "\n",
       "    .dataframe thead th {\n",
       "        text-align: right;\n",
       "    }\n",
       "</style>\n",
       "<table border=\"1\" class=\"dataframe\">\n",
       "  <thead>\n",
       "    <tr style=\"text-align: right;\">\n",
       "      <th></th>\n",
       "      <th>Principal_Component_1</th>\n",
       "      <th>Principal_Component_2</th>\n",
       "      <th>Principal_Component_3</th>\n",
       "      <th>Principal_Component_4</th>\n",
       "      <th>Principal_Component_5</th>\n",
       "      <th>Principal_Component_6</th>\n",
       "      <th>Principal_Component_7</th>\n",
       "      <th>Delivery_Status</th>\n",
       "    </tr>\n",
       "  </thead>\n",
       "  <tbody>\n",
       "    <tr>\n",
       "      <th>0</th>\n",
       "      <td>-1.513471</td>\n",
       "      <td>0.350754</td>\n",
       "      <td>-0.658039</td>\n",
       "      <td>0.689365</td>\n",
       "      <td>0.839807</td>\n",
       "      <td>0.008182</td>\n",
       "      <td>-0.112379</td>\n",
       "      <td>0.0</td>\n",
       "    </tr>\n",
       "    <tr>\n",
       "      <th>1</th>\n",
       "      <td>1.198257</td>\n",
       "      <td>0.167606</td>\n",
       "      <td>0.163313</td>\n",
       "      <td>0.850196</td>\n",
       "      <td>0.915537</td>\n",
       "      <td>0.003141</td>\n",
       "      <td>-0.056017</td>\n",
       "      <td>1.0</td>\n",
       "    </tr>\n",
       "    <tr>\n",
       "      <th>2</th>\n",
       "      <td>1.563283</td>\n",
       "      <td>-0.046000</td>\n",
       "      <td>-0.958632</td>\n",
       "      <td>0.638523</td>\n",
       "      <td>0.835090</td>\n",
       "      <td>-0.018868</td>\n",
       "      <td>0.044851</td>\n",
       "      <td>0.0</td>\n",
       "    </tr>\n",
       "    <tr>\n",
       "      <th>3</th>\n",
       "      <td>0.896919</td>\n",
       "      <td>-0.291082</td>\n",
       "      <td>-0.558121</td>\n",
       "      <td>0.713459</td>\n",
       "      <td>0.863075</td>\n",
       "      <td>-0.011448</td>\n",
       "      <td>-0.012998</td>\n",
       "      <td>0.0</td>\n",
       "    </tr>\n",
       "    <tr>\n",
       "      <th>4</th>\n",
       "      <td>-0.903420</td>\n",
       "      <td>-0.775221</td>\n",
       "      <td>0.117206</td>\n",
       "      <td>0.838759</td>\n",
       "      <td>0.907146</td>\n",
       "      <td>0.003979</td>\n",
       "      <td>-0.006589</td>\n",
       "      <td>1.0</td>\n",
       "    </tr>\n",
       "    <tr>\n",
       "      <th>...</th>\n",
       "      <td>...</td>\n",
       "      <td>...</td>\n",
       "      <td>...</td>\n",
       "      <td>...</td>\n",
       "      <td>...</td>\n",
       "      <td>...</td>\n",
       "      <td>...</td>\n",
       "      <td>...</td>\n",
       "    </tr>\n",
       "    <tr>\n",
       "      <th>3522568</th>\n",
       "      <td>0.412525</td>\n",
       "      <td>1.348705</td>\n",
       "      <td>0.418620</td>\n",
       "      <td>-0.100881</td>\n",
       "      <td>-0.814863</td>\n",
       "      <td>0.022453</td>\n",
       "      <td>0.049564</td>\n",
       "      <td>0.0</td>\n",
       "    </tr>\n",
       "    <tr>\n",
       "      <th>3522569</th>\n",
       "      <td>1.659690</td>\n",
       "      <td>-0.107938</td>\n",
       "      <td>-0.281407</td>\n",
       "      <td>-0.229589</td>\n",
       "      <td>-0.851448</td>\n",
       "      <td>-0.011503</td>\n",
       "      <td>0.014974</td>\n",
       "      <td>0.0</td>\n",
       "    </tr>\n",
       "    <tr>\n",
       "      <th>3522570</th>\n",
       "      <td>1.116840</td>\n",
       "      <td>-0.185149</td>\n",
       "      <td>-0.284929</td>\n",
       "      <td>-0.231148</td>\n",
       "      <td>-0.853834</td>\n",
       "      <td>-0.009196</td>\n",
       "      <td>-0.017241</td>\n",
       "      <td>0.0</td>\n",
       "    </tr>\n",
       "    <tr>\n",
       "      <th>3522571</th>\n",
       "      <td>1.386018</td>\n",
       "      <td>-0.378105</td>\n",
       "      <td>-0.382901</td>\n",
       "      <td>-0.248987</td>\n",
       "      <td>-0.858717</td>\n",
       "      <td>-0.014507</td>\n",
       "      <td>0.032693</td>\n",
       "      <td>0.0</td>\n",
       "    </tr>\n",
       "    <tr>\n",
       "      <th>3522572</th>\n",
       "      <td>0.644626</td>\n",
       "      <td>0.485266</td>\n",
       "      <td>0.032698</td>\n",
       "      <td>-0.172435</td>\n",
       "      <td>-0.836730</td>\n",
       "      <td>0.005668</td>\n",
       "      <td>0.097673</td>\n",
       "      <td>1.0</td>\n",
       "    </tr>\n",
       "  </tbody>\n",
       "</table>\n",
       "<p>3522573 rows × 8 columns</p>\n",
       "</div>"
      ],
      "text/plain": [
       "         Principal_Component_1  Principal_Component_2  Principal_Component_3  \\\n",
       "0                    -1.513471               0.350754              -0.658039   \n",
       "1                     1.198257               0.167606               0.163313   \n",
       "2                     1.563283              -0.046000              -0.958632   \n",
       "3                     0.896919              -0.291082              -0.558121   \n",
       "4                    -0.903420              -0.775221               0.117206   \n",
       "...                        ...                    ...                    ...   \n",
       "3522568               0.412525               1.348705               0.418620   \n",
       "3522569               1.659690              -0.107938              -0.281407   \n",
       "3522570               1.116840              -0.185149              -0.284929   \n",
       "3522571               1.386018              -0.378105              -0.382901   \n",
       "3522572               0.644626               0.485266               0.032698   \n",
       "\n",
       "         Principal_Component_4  Principal_Component_5  Principal_Component_6  \\\n",
       "0                     0.689365               0.839807               0.008182   \n",
       "1                     0.850196               0.915537               0.003141   \n",
       "2                     0.638523               0.835090              -0.018868   \n",
       "3                     0.713459               0.863075              -0.011448   \n",
       "4                     0.838759               0.907146               0.003979   \n",
       "...                        ...                    ...                    ...   \n",
       "3522568              -0.100881              -0.814863               0.022453   \n",
       "3522569              -0.229589              -0.851448              -0.011503   \n",
       "3522570              -0.231148              -0.853834              -0.009196   \n",
       "3522571              -0.248987              -0.858717              -0.014507   \n",
       "3522572              -0.172435              -0.836730               0.005668   \n",
       "\n",
       "         Principal_Component_7  Delivery_Status  \n",
       "0                    -0.112379              0.0  \n",
       "1                    -0.056017              1.0  \n",
       "2                     0.044851              0.0  \n",
       "3                    -0.012998              0.0  \n",
       "4                    -0.006589              1.0  \n",
       "...                        ...              ...  \n",
       "3522568               0.049564              0.0  \n",
       "3522569               0.014974              0.0  \n",
       "3522570              -0.017241              0.0  \n",
       "3522571               0.032693              0.0  \n",
       "3522572               0.097673              1.0  \n",
       "\n",
       "[3522573 rows x 8 columns]"
      ]
     },
     "execution_count": 31,
     "metadata": {},
     "output_type": "execute_result"
    }
   ],
   "source": [
    "finalDf = pd.concat([principalDf, y], axis = 1)\n",
    "finalDf"
   ]
  },
  {
   "cell_type": "code",
   "execution_count": 32,
   "metadata": {},
   "outputs": [
    {
     "data": {
      "text/plain": [
       "Principal_Component_1    0\n",
       "Principal_Component_2    0\n",
       "Principal_Component_3    0\n",
       "Principal_Component_4    0\n",
       "Principal_Component_5    0\n",
       "Principal_Component_6    0\n",
       "Principal_Component_7    0\n",
       "Delivery_Status          0\n",
       "dtype: int64"
      ]
     },
     "execution_count": 32,
     "metadata": {},
     "output_type": "execute_result"
    }
   ],
   "source": [
    "finalDf.isnull().sum()"
   ]
  },
  {
   "cell_type": "code",
   "execution_count": 33,
   "metadata": {},
   "outputs": [],
   "source": [
    "pc_x = finalDf.drop(['Delivery_Status'], axis=1)\n",
    "pc_y = finalDf['Delivery_Status']"
   ]
  },
  {
   "cell_type": "code",
   "execution_count": 34,
   "metadata": {},
   "outputs": [],
   "source": [
    "# Splitting the data into train and test\n",
    "X_train,X_test,y_train,y_test=train_test_split(pc_x, pc_y, train_size=0.7, stratify = y, random_state=100)"
   ]
  },
  {
   "cell_type": "code",
   "execution_count": 35,
   "metadata": {},
   "outputs": [
    {
     "data": {
      "text/plain": [
       "((2465801,), (1056772,))"
      ]
     },
     "execution_count": 35,
     "metadata": {},
     "output_type": "execute_result"
    }
   ],
   "source": [
    "y_train.shape, y_test.shape"
   ]
  },
  {
   "cell_type": "code",
   "execution_count": 36,
   "metadata": {},
   "outputs": [
    {
     "data": {
      "text/plain": [
       "0.0    0.796111\n",
       "1.0    0.203889\n",
       "Name: Delivery_Status, dtype: float64"
      ]
     },
     "execution_count": 36,
     "metadata": {},
     "output_type": "execute_result"
    }
   ],
   "source": [
    "y_train.value_counts()/len(y_train)"
   ]
  },
  {
   "cell_type": "code",
   "execution_count": 37,
   "metadata": {},
   "outputs": [
    {
     "data": {
      "text/plain": [
       "0.0    0.796111\n",
       "1.0    0.203889\n",
       "Name: Delivery_Status, dtype: float64"
      ]
     },
     "execution_count": 37,
     "metadata": {},
     "output_type": "execute_result"
    }
   ],
   "source": [
    "y_test.value_counts()/len(y_test)"
   ]
  },
  {
   "cell_type": "code",
   "execution_count": 38,
   "metadata": {},
   "outputs": [
    {
     "data": {
      "text/plain": [
       "pandas.core.series.Series"
      ]
     },
     "execution_count": 38,
     "metadata": {},
     "output_type": "execute_result"
    }
   ],
   "source": [
    "type(y_test)"
   ]
  },
  {
   "cell_type": "code",
   "execution_count": 39,
   "metadata": {},
   "outputs": [
    {
     "data": {
      "text/plain": [
       "pandas.core.frame.DataFrame"
      ]
     },
     "execution_count": 39,
     "metadata": {},
     "output_type": "execute_result"
    }
   ],
   "source": [
    "type(X_test)"
   ]
  },
  {
   "cell_type": "markdown",
   "metadata": {},
   "source": [
    "# Handling class imbalance using SMOTE technique:"
   ]
  },
  {
   "cell_type": "code",
   "execution_count": 40,
   "metadata": {},
   "outputs": [
    {
     "name": "stdout",
     "output_type": "stream",
     "text": [
      "Before Counter({0.0: 1963051, 1.0: 502750})\n",
      "After Counter({0.0: 1963051, 1.0: 1963051})\n"
     ]
    }
   ],
   "source": [
    "from imblearn.over_sampling import SMOTE\n",
    "\n",
    "counter = Counter(y_train)\n",
    "print('Before',counter)\n",
    "\n",
    "smt = SMOTE()\n",
    "#X_train, y_train = smt.fit_resample(X_train, y_train)\n",
    "X_train_sm, y_train_sm = smt.fit_resample(X_train, y_train)\n",
    "\n",
    "counter = Counter(y_train_sm)\n",
    "print('After',counter)"
   ]
  },
  {
   "cell_type": "markdown",
   "metadata": {},
   "source": [
    "# Model Building:"
   ]
  },
  {
   "cell_type": "code",
   "execution_count": 41,
   "metadata": {},
   "outputs": [],
   "source": [
    "model = list()\n",
    "resample = list()\n",
    "precision = list()\n",
    "recall = list()\n",
    "F1score = list()\n",
    "aucroc = list()\n",
    "accuracy = list()"
   ]
  },
  {
   "cell_type": "code",
   "execution_count": 42,
   "metadata": {},
   "outputs": [],
   "source": [
    "# Test data prediction\n",
    "def test_eval(clf_model, X_test, y_test, algo=None, sampling=None):\n",
    "    y_prob=clf_model.predict_proba(X_test)\n",
    "    y_pred=clf_model.predict(X_test)\n",
    "    print(type(y_pred))\n",
    "\n",
    "    print('Confusion Matrix')\n",
    "    print('='*70)\n",
    "    print(confusion_matrix(y_test,y_pred),\"\\n\")\n",
    "    print('Classification Report')\n",
    "    print('='*70)\n",
    "    print(classification_report(y_test,y_pred),\"\\n\")\n",
    "    print('AUC-ROC')\n",
    "    print('='*70)\n",
    "    print(roc_auc_score(y_test, y_prob[:,1]),\"\\n\",\"\\n\")\n",
    "    print('Accuracy Score')\n",
    "    print('='*70)\n",
    "    print(accuracy_score(y_test,y_pred),\"\\n\")\n",
    "          \n",
    "    model.append(algo)\n",
    "    precision.append(precision_score(y_test,y_pred))\n",
    "    recall.append(recall_score(y_test,y_pred))\n",
    "    F1score.append(f1_score(y_test,y_pred))\n",
    "    aucroc.append(roc_auc_score(y_test, y_prob[:,1]))\n",
    "    resample.append(sampling)\n",
    "    accuracy.append(accuracy_score(y_test,y_pred))\n"
   ]
  },
  {
   "cell_type": "markdown",
   "metadata": {},
   "source": [
    " "
   ]
  },
  {
   "cell_type": "markdown",
   "metadata": {},
   "source": [
    "## Model: Random Forest"
   ]
  },
  {
   "cell_type": "markdown",
   "metadata": {},
   "source": [
    "### a. Original Unsampled Data"
   ]
  },
  {
   "cell_type": "code",
   "execution_count": 43,
   "metadata": {},
   "outputs": [],
   "source": [
    "estimators = [2,10,30,50,100]\n",
    "# Maximum number of depth in each tree:\n",
    "max_depth = [i for i in range(5,16,2)]\n",
    "# Minimum number of samples to consider to split a node:\n",
    "min_samples_split = [2, 5, 10, 15, 20, 50, 100]\n",
    "# Minimum number of samples to consider at each leaf node:\n",
    "min_samples_leaf = [1, 2, 5]\n",
    "\n",
    "cv = StratifiedKFold(n_splits=4, random_state=100, shuffle=True)"
   ]
  },
  {
   "cell_type": "code",
   "execution_count": 44,
   "metadata": {},
   "outputs": [],
   "source": [
    "\n",
    "rf_model = RandomForestClassifier()\n",
    "\n",
    "rf_params={'n_estimators':estimators,\n",
    "           'max_depth':max_depth,\n",
    "           'min_samples_split':min_samples_split}\n",
    "\n",
    "#clf_RF = RandomizedSearchCV(rf_model, rf_params, cv=cv, scoring='roc_auc', n_jobs=-1, n_iter=5, verbose=2)\n",
    "clf_RF = RandomizedSearchCV(rf_model, rf_params, cv=cv, scoring='accuracy', n_jobs=-1, n_iter=10, verbose=2)\n"
   ]
  },
  {
   "cell_type": "code",
   "execution_count": 45,
   "metadata": {},
   "outputs": [
    {
     "name": "stdout",
     "output_type": "stream",
     "text": [
      "Fitting 4 folds for each of 1 candidates, totalling 4 fits\n"
     ]
    },
    {
     "data": {
      "text/plain": [
       "RandomForestClassifier(max_depth=5, min_samples_split=20, n_estimators=30)"
      ]
     },
     "execution_count": 45,
     "metadata": {},
     "output_type": "execute_result"
    }
   ],
   "source": [
    "clf_RF.fit(X_train, y_train)\n",
    "clf_RF.best_estimator_"
   ]
  },
  {
   "cell_type": "code",
   "execution_count": 46,
   "metadata": {},
   "outputs": [
    {
     "name": "stdout",
     "output_type": "stream",
     "text": [
      "<class 'numpy.ndarray'>\n",
      "Confusion Matrix\n",
      "======================================================================\n",
      "[[840997    311]\n",
      " [212313   3151]] \n",
      "\n",
      "Classification Report\n",
      "======================================================================\n",
      "              precision    recall  f1-score   support\n",
      "\n",
      "         0.0       0.80      1.00      0.89    841308\n",
      "         1.0       0.91      0.01      0.03    215464\n",
      "\n",
      "    accuracy                           0.80   1056772\n",
      "   macro avg       0.85      0.51      0.46   1056772\n",
      "weighted avg       0.82      0.80      0.71   1056772\n",
      " \n",
      "\n",
      "AUC-ROC\n",
      "======================================================================\n",
      "0.7410229451359633 \n",
      " \n",
      "\n",
      "Accuracy Score\n",
      "======================================================================\n",
      "0.7987986055648711 \n",
      "\n"
     ]
    }
   ],
   "source": [
    "test_eval(clf_RF, X_test, y_test, 'Random Forest', 'actual')"
   ]
  },
  {
   "cell_type": "markdown",
   "metadata": {},
   "source": [
    "### b. SMOTE Resampling"
   ]
  },
  {
   "cell_type": "code",
   "execution_count": 54,
   "metadata": {},
   "outputs": [
    {
     "name": "stdout",
     "output_type": "stream",
     "text": [
      "Fitting 4 folds for each of 10 candidates, totalling 40 fits\n"
     ]
    },
    {
     "data": {
      "text/plain": [
       "RandomForestClassifier(max_depth=15, min_samples_split=5, n_estimators=30)"
      ]
     },
     "execution_count": 54,
     "metadata": {},
     "output_type": "execute_result"
    }
   ],
   "source": [
    "clf_RF.fit(X_train_sm, y_train_sm)\n",
    "clf_RF.best_estimator_"
   ]
  },
  {
   "cell_type": "code",
   "execution_count": 55,
   "metadata": {},
   "outputs": [
    {
     "name": "stdout",
     "output_type": "stream",
     "text": [
      "Confusion Matrix\n",
      "======================================================================\n",
      "[[655850 185458]\n",
      " [ 49960 165504]] \n",
      "\n",
      "Classification Report\n",
      "======================================================================\n",
      "              precision    recall  f1-score   support\n",
      "\n",
      "         0.0       0.93      0.78      0.85    841308\n",
      "         1.0       0.47      0.77      0.58    215464\n",
      "\n",
      "    accuracy                           0.78   1056772\n",
      "   macro avg       0.70      0.77      0.72   1056772\n",
      "weighted avg       0.84      0.78      0.79   1056772\n",
      " \n",
      "\n",
      "AUC-ROC\n",
      "======================================================================\n",
      "0.8592341358886686 \n",
      " \n",
      "\n",
      "Accuracy Score\n",
      "======================================================================\n",
      "0.777229146873687 \n",
      "\n"
     ]
    }
   ],
   "source": [
    "test_eval(clf_RF, X_test, y_test, 'Random Forest', 'smote')"
   ]
  },
  {
   "cell_type": "markdown",
   "metadata": {},
   "source": [
    " "
   ]
  },
  {
   "cell_type": "markdown",
   "metadata": {},
   "source": [
    "## Plotting Model's Accuracy with Original as well as Balanced data (using SMOTE):"
   ]
  },
  {
   "cell_type": "code",
   "execution_count": 56,
   "metadata": {},
   "outputs": [],
   "source": [
    "clf_eval_df = pd.DataFrame({'model':model,\n",
    "                            'resample':resample,\n",
    "                            'precision':precision,\n",
    "                            'recall':recall,\n",
    "                            'f1-score':F1score,\n",
    "                            'auc-roc':aucroc,\n",
    "                            'accuracy': accuracy})"
   ]
  },
  {
   "cell_type": "code",
   "execution_count": 57,
   "metadata": {},
   "outputs": [
    {
     "data": {
      "text/html": [
       "<div>\n",
       "<style scoped>\n",
       "    .dataframe tbody tr th:only-of-type {\n",
       "        vertical-align: middle;\n",
       "    }\n",
       "\n",
       "    .dataframe tbody tr th {\n",
       "        vertical-align: top;\n",
       "    }\n",
       "\n",
       "    .dataframe thead th {\n",
       "        text-align: right;\n",
       "    }\n",
       "</style>\n",
       "<table border=\"1\" class=\"dataframe\">\n",
       "  <thead>\n",
       "    <tr style=\"text-align: right;\">\n",
       "      <th></th>\n",
       "      <th>model</th>\n",
       "      <th>resample</th>\n",
       "      <th>precision</th>\n",
       "      <th>recall</th>\n",
       "      <th>f1-score</th>\n",
       "      <th>auc-roc</th>\n",
       "      <th>accuracy</th>\n",
       "    </tr>\n",
       "  </thead>\n",
       "  <tbody>\n",
       "    <tr>\n",
       "      <th>0</th>\n",
       "      <td>Random Forest</td>\n",
       "      <td>actual</td>\n",
       "      <td>0.777554</td>\n",
       "      <td>0.236174</td>\n",
       "      <td>0.362302</td>\n",
       "      <td>0.813320</td>\n",
       "      <td>0.830489</td>\n",
       "    </tr>\n",
       "    <tr>\n",
       "      <th>1</th>\n",
       "      <td>Random Forest</td>\n",
       "      <td>smote</td>\n",
       "      <td>0.471572</td>\n",
       "      <td>0.768128</td>\n",
       "      <td>0.584380</td>\n",
       "      <td>0.859234</td>\n",
       "      <td>0.777229</td>\n",
       "    </tr>\n",
       "  </tbody>\n",
       "</table>\n",
       "</div>"
      ],
      "text/plain": [
       "           model resample  precision    recall  f1-score   auc-roc  accuracy\n",
       "0  Random Forest   actual   0.777554  0.236174  0.362302  0.813320  0.830489\n",
       "1  Random Forest    smote   0.471572  0.768128  0.584380  0.859234  0.777229"
      ]
     },
     "execution_count": 57,
     "metadata": {},
     "output_type": "execute_result"
    }
   ],
   "source": [
    "clf_eval_df"
   ]
  },
  {
   "cell_type": "code",
   "execution_count": 58,
   "metadata": {},
   "outputs": [
    {
     "data": {
      "text/plain": [
       "<seaborn.axisgrid.FacetGrid at 0x2280e2d1348>"
      ]
     },
     "execution_count": 58,
     "metadata": {},
     "output_type": "execute_result"
    },
    {
     "data": {
      "image/png": "[encoded data removed]",
      "text/plain": [
       "<Figure size 360x360 with 1 Axes>"
      ]
     },
     "metadata": {},
     "output_type": "display_data"
    }
   ],
   "source": [
    "sns.set(font_scale=1.2)\n",
    "#sns.palplot(sns.color_palette())\n",
    "g = sns.FacetGrid(clf_eval_df, col=\"model\", height=5)\n",
    "g.map(sns.barplot, \"resample\", \"accuracy\", palette='twilight', order=[\"actual\", \"smote\"])\n",
    "g.set_xticklabels(rotation=30)\n",
    "g.set_xlabels(' ', fontsize=14)\n",
    "g.set_ylabels('Accuracy', fontsize=14)"
   ]
  },
  {
   "cell_type": "code",
   "execution_count": 59,
   "metadata": {},
   "outputs": [
    {
     "data": {
      "text/plain": [
       "<seaborn.axisgrid.FacetGrid at 0x2280e2ccf08>"
      ]
     },
     "execution_count": 59,
     "metadata": {},
     "output_type": "execute_result"
    },
    {
     "data": {
      "image/png": "[encoded data removed]",
      "text/plain": [
       "<Figure size 360x360 with 1 Axes>"
      ]
     },
     "metadata": {},
     "output_type": "display_data"
    }
   ],
   "source": [
    "sns.set(font_scale=1.2)\n",
    "#sns.palplot(sns.color_palette())\n",
    "g = sns.FacetGrid(clf_eval_df, col=\"model\", height=5)\n",
    "g.map(sns.barplot, \"resample\", \"auc-roc\", palette='twilight', order=[\"actual\", \"smote\"])\n",
    "g.set_xticklabels(rotation=30)\n",
    "g.set_xlabels(' ', fontsize=14)\n",
    "g.set_ylabels('AUC-ROC', fontsize=14)"
   ]
  }
 ],
 "metadata": {
  "kernelspec": {
   "display_name": "Python 3",
   "language": "python",
   "name": "python3"
  },
  "language_info": {
   "codemirror_mode": {
    "name": "ipython",
    "version": 3
   },
   "file_extension": ".py",
   "mimetype": "text/x-python",
   "name": "python",
   "nbconvert_exporter": "python",
   "pygments_lexer": "ipython3",
   "version": "3.8.8"
  }
 },
 "nbformat": 4,
 "nbformat_minor": 4
}
